{
 "cells": [
  {
   "cell_type": "markdown",
   "metadata": {},
   "source": [
    "# 实验\n",
    "\n",
    "## 背景介绍：\n",
    "\n",
    "极大似然估计（Maximum Likelihood Estimation，MLE）是用来估计一个概率模型的参数的一种方法\n",
    "其核心思想是利用已知的样本结果信息，反推最具有可能（最大概率）导致这些样本结果出现的模型参数值\n",
    "参考Sheppard（2013），Greene（2002）\n",
    "本代码使用MLE进行最小二乘估计，并做三大检验，具体而言是实现Sheppard（2013）在2.7.3提到的内容\n",
    "即对r - r_f = beta0 + beta1 * (r_m - r_f) + beta2 * r_s + beta3 * r_v + epsilon使用MLE进行估计\n",
    "\n",
    "## 实验过程：\n",
    "\n",
    "1. 读取收益率数据，得到估计的原始数据\n",
    "2. 进行极大似然估计\n",
    "3. 对估计的参数进行三大检验\n",
    "\n",
    "## 实验目标：\n",
    "\n",
    "1. 理解极大似然估计的思想和方法，以及如何使用R实现\n",
    "2. 掌握使用R进行统计检验\n",
    "3. 进一步熟练如何定义函数\n",
    "\n",
    "## 预期结果：\n",
    "\n",
    "估计的极大似然参数值，以及检验的统计量\n",
    "\n",
    "## 作业\n",
    "\n",
    "将GLD和GOOG两只证券的MLE参数估计出来"
   ]
  }
 ],
 "metadata": {
  "kernelspec": {
   "display_name": "Python 3",
   "language": "python",
   "name": "python3"
  },
  "language_info": {
   "codemirror_mode": {
    "name": "ipython",
    "version": 3
   },
   "file_extension": ".py",
   "mimetype": "text/x-python",
   "name": "python",
   "nbconvert_exporter": "python",
   "pygments_lexer": "ipython3",
   "version": "3.7.1"
  }
 },
 "nbformat": 4,
 "nbformat_minor": 2
}
