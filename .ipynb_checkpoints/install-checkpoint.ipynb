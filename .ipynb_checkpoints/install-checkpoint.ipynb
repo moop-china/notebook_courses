{
 "cells": [
  {
   "cell_type": "markdown",
   "metadata": {},
   "source": [
    "# install Python packages"
   ]
  },
  {
   "cell_type": "code",
   "execution_count": 1,
   "metadata": {},
   "outputs": [
    {
     "name": "stdout",
     "output_type": "stream",
     "text": [
      "Requirement already satisfied: numpy in /srv/conda/lib/python3.7/site-packages (1.15.4)\n",
      "Requirement already satisfied: pandas in /srv/conda/lib/python3.7/site-packages (0.24.1)\n",
      "Requirement already satisfied: pytz>=2011k in /srv/conda/lib/python3.7/site-packages (from pandas) (2018.9)\n",
      "Requirement already satisfied: python-dateutil>=2.5.0 in /srv/conda/lib/python3.7/site-packages (from pandas) (2.7.5)\n",
      "Requirement already satisfied: numpy>=1.12.0 in /srv/conda/lib/python3.7/site-packages (from pandas) (1.15.4)\n",
      "Requirement already satisfied: six>=1.5 in /srv/conda/lib/python3.7/site-packages (from python-dateutil>=2.5.0->pandas) (1.12.0)\n",
      "Requirement already satisfied: matplotlib in /srv/conda/lib/python3.7/site-packages (3.0.2)\n",
      "Requirement already satisfied: python-dateutil>=2.1 in /srv/conda/lib/python3.7/site-packages (from matplotlib) (2.7.5)\n",
      "Requirement already satisfied: cycler>=0.10 in /srv/conda/lib/python3.7/site-packages (from matplotlib) (0.10.0)\n",
      "Requirement already satisfied: pyparsing!=2.0.4,!=2.1.2,!=2.1.6,>=2.0.1 in /srv/conda/lib/python3.7/site-packages (from matplotlib) (2.3.1)\n",
      "Requirement already satisfied: numpy>=1.10.0 in /srv/conda/lib/python3.7/site-packages (from matplotlib) (1.15.4)\n",
      "Requirement already satisfied: kiwisolver>=1.0.1 in /srv/conda/lib/python3.7/site-packages (from matplotlib) (1.0.1)\n",
      "Requirement already satisfied: six>=1.5 in /srv/conda/lib/python3.7/site-packages (from python-dateutil>=2.1->matplotlib) (1.12.0)\n",
      "Requirement already satisfied: setuptools in /srv/conda/lib/python3.7/site-packages (from kiwisolver>=1.0.1->matplotlib) (40.8.0)\n",
      "Requirement already satisfied: mpl_finance in /srv/conda/lib/python3.7/site-packages (0.10.0)\n",
      "Requirement already satisfied: matplotlib in /srv/conda/lib/python3.7/site-packages (from mpl_finance) (3.0.2)\n",
      "Requirement already satisfied: kiwisolver>=1.0.1 in /srv/conda/lib/python3.7/site-packages (from matplotlib->mpl_finance) (1.0.1)\n",
      "Requirement already satisfied: numpy>=1.10.0 in /srv/conda/lib/python3.7/site-packages (from matplotlib->mpl_finance) (1.15.4)\n",
      "Requirement already satisfied: python-dateutil>=2.1 in /srv/conda/lib/python3.7/site-packages (from matplotlib->mpl_finance) (2.7.5)\n",
      "Requirement already satisfied: cycler>=0.10 in /srv/conda/lib/python3.7/site-packages (from matplotlib->mpl_finance) (0.10.0)\n",
      "Requirement already satisfied: pyparsing!=2.0.4,!=2.1.2,!=2.1.6,>=2.0.1 in /srv/conda/lib/python3.7/site-packages (from matplotlib->mpl_finance) (2.3.1)\n",
      "Requirement already satisfied: setuptools in /srv/conda/lib/python3.7/site-packages (from kiwisolver>=1.0.1->matplotlib->mpl_finance) (40.8.0)\n",
      "Requirement already satisfied: six>=1.5 in /srv/conda/lib/python3.7/site-packages (from python-dateutil>=2.1->matplotlib->mpl_finance) (1.12.0)\n",
      "Requirement already satisfied: plotly in /srv/conda/lib/python3.7/site-packages (3.6.1)\n",
      "Requirement already satisfied: pytz in /srv/conda/lib/python3.7/site-packages (from plotly) (2018.9)\n",
      "Requirement already satisfied: retrying>=1.3.3 in /srv/conda/lib/python3.7/site-packages (from plotly) (1.3.3)\n",
      "Requirement already satisfied: requests in /srv/conda/lib/python3.7/site-packages (from plotly) (2.21.0)\n",
      "Requirement already satisfied: nbformat>=4.2 in /srv/conda/lib/python3.7/site-packages (from plotly) (4.4.0)\n",
      "Requirement already satisfied: decorator>=4.0.6 in /srv/conda/lib/python3.7/site-packages (from plotly) (4.3.0)\n",
      "Requirement already satisfied: six in /srv/conda/lib/python3.7/site-packages (from plotly) (1.12.0)\n",
      "Requirement already satisfied: chardet<3.1.0,>=3.0.2 in /srv/conda/lib/python3.7/site-packages (from requests->plotly) (3.0.4)\n",
      "Requirement already satisfied: certifi>=2017.4.17 in /srv/conda/lib/python3.7/site-packages (from requests->plotly) (2018.11.29)\n",
      "Requirement already satisfied: idna<2.9,>=2.5 in /srv/conda/lib/python3.7/site-packages (from requests->plotly) (2.8)\n",
      "Requirement already satisfied: urllib3<1.25,>=1.21.1 in /srv/conda/lib/python3.7/site-packages (from requests->plotly) (1.24.1)\n",
      "Requirement already satisfied: ipython_genutils in /srv/conda/lib/python3.7/site-packages (from nbformat>=4.2->plotly) (0.2.0)\n",
      "Requirement already satisfied: traitlets>=4.1 in /srv/conda/lib/python3.7/site-packages (from nbformat>=4.2->plotly) (4.3.2)\n",
      "Requirement already satisfied: jsonschema!=2.5.0,>=2.4 in /srv/conda/lib/python3.7/site-packages (from nbformat>=4.2->plotly) (3.0.0)\n",
      "Requirement already satisfied: jupyter_core in /srv/conda/lib/python3.7/site-packages (from nbformat>=4.2->plotly) (4.4.0)\n",
      "Requirement already satisfied: attrs>=17.4.0 in /srv/conda/lib/python3.7/site-packages (from jsonschema!=2.5.0,>=2.4->nbformat>=4.2->plotly) (18.2.0)\n",
      "Requirement already satisfied: pyrsistent>=0.14.0 in /srv/conda/lib/python3.7/site-packages (from jsonschema!=2.5.0,>=2.4->nbformat>=4.2->plotly) (0.14.11)\n",
      "Requirement already satisfied: setuptools in /srv/conda/lib/python3.7/site-packages (from jsonschema!=2.5.0,>=2.4->nbformat>=4.2->plotly) (40.8.0)\n",
      "Requirement already satisfied: tqdm in /srv/conda/lib/python3.7/site-packages (4.31.1)\n",
      "Requirement already satisfied: statsmodels in /srv/conda/lib/python3.7/site-packages (0.9.0)\n",
      "Requirement already satisfied: pandas in /srv/conda/lib/python3.7/site-packages (from statsmodels) (0.24.1)\n",
      "Requirement already satisfied: patsy in /srv/conda/lib/python3.7/site-packages (from statsmodels) (0.5.1)\n",
      "Requirement already satisfied: pytz>=2011k in /srv/conda/lib/python3.7/site-packages (from pandas->statsmodels) (2018.9)\n",
      "Requirement already satisfied: numpy>=1.12.0 in /srv/conda/lib/python3.7/site-packages (from pandas->statsmodels) (1.15.4)\n",
      "Requirement already satisfied: python-dateutil>=2.5.0 in /srv/conda/lib/python3.7/site-packages (from pandas->statsmodels) (2.7.5)\n",
      "Requirement already satisfied: six in /srv/conda/lib/python3.7/site-packages (from patsy->statsmodels) (1.12.0)\n",
      "Requirement already satisfied: scipy in /srv/conda/lib/python3.7/site-packages (1.2.1)\n",
      "Requirement already satisfied: numpy>=1.8.2 in /srv/conda/lib/python3.7/site-packages (from scipy) (1.15.4)\n",
      "Requirement already satisfied: sklearn in /srv/conda/lib/python3.7/site-packages (0.0)\n",
      "Requirement already satisfied: scikit-learn in /srv/conda/lib/python3.7/site-packages (from sklearn) (0.20.2)\n",
      "Requirement already satisfied: scipy>=0.13.3 in /srv/conda/lib/python3.7/site-packages (from scikit-learn->sklearn) (1.2.1)\n",
      "Requirement already satisfied: numpy>=1.8.2 in /srv/conda/lib/python3.7/site-packages (from scikit-learn->sklearn) (1.15.4)\n"
     ]
    }
   ],
   "source": [
    "!pip install numpy\n",
    "!pip install pandas\n",
    "!pip install matplotlib\n",
    "!pip install mpl_finance\n",
    "!pip install plotly\n",
    "!pip install tqdm\n",
    "!pip install statsmodels\n",
    "!pip install scipy\n",
    "!pip install sklearn"
   ]
  },
  {
   "cell_type": "markdown",
   "metadata": {},
   "source": [
    "install R packages"
   ]
  },
  {
   "cell_type": "code",
   "execution_count": 3,
   "metadata": {},
   "outputs": [
    {
     "name": "stdout",
     "output_type": "stream",
     "text": [
      "Collecting arch\n",
      "  Using cached https://files.pythonhosted.org/packages/68/c8/80fcf9a4875f66e594646b06f8e7cb36650495bbe80847b8ded9a64346fa/arch-4.7.0-cp37-cp37m-manylinux1_x86_64.whl\n",
      "Requirement already satisfied: pandas>=0.20 in /srv/conda/lib/python3.7/site-packages (from arch) (0.24.1)\n",
      "Collecting cached-property>=1.5.1 (from arch)\n",
      "  Using cached https://files.pythonhosted.org/packages/3b/86/85c1be2e8db9e13ef9a350aecd6dea292bd612fa288c2f40d035bb750ded/cached_property-1.5.1-py2.py3-none-any.whl\n",
      "Requirement already satisfied: statsmodels>=0.8 in /srv/conda/lib/python3.7/site-packages (from arch) (0.9.0)\n",
      "Requirement already satisfied: numpy>=1.12 in /srv/conda/lib/python3.7/site-packages (from arch) (1.15.4)\n",
      "Requirement already satisfied: scipy>=0.19 in /srv/conda/lib/python3.7/site-packages (from arch) (1.2.1)\n",
      "Requirement already satisfied: python-dateutil>=2.5.0 in /srv/conda/lib/python3.7/site-packages (from pandas>=0.20->arch) (2.7.5)\n",
      "Requirement already satisfied: pytz>=2011k in /srv/conda/lib/python3.7/site-packages (from pandas>=0.20->arch) (2018.9)\n",
      "Requirement already satisfied: patsy in /srv/conda/lib/python3.7/site-packages (from statsmodels>=0.8->arch) (0.5.1)\n",
      "Requirement already satisfied: six>=1.5 in /srv/conda/lib/python3.7/site-packages (from python-dateutil>=2.5.0->pandas>=0.20->arch) (1.12.0)\n",
      "Installing collected packages: cached-property, arch\n",
      "Successfully installed arch-4.7.0 cached-property-1.5.1\n",
      "Requirement already satisfied: tushare in /srv/conda/lib/python3.7/site-packages (1.2.21)\n",
      "Requirement already satisfied: simplejson>=3.16.0 in /srv/conda/lib/python3.7/site-packages (from tushare) (3.16.0)\n",
      "Requirement already satisfied: pandas>=0.18.0 in /srv/conda/lib/python3.7/site-packages (from tushare) (0.24.1)\n",
      "Requirement already satisfied: lxml>=3.8.0 in /srv/conda/lib/python3.7/site-packages (from tushare) (4.3.1)\n",
      "Requirement already satisfied: msgpack>=0.5.6 in /srv/conda/lib/python3.7/site-packages (from tushare) (0.6.1)\n",
      "Requirement already satisfied: requests>=2.0.0 in /srv/conda/lib/python3.7/site-packages (from tushare) (2.21.0)\n",
      "Requirement already satisfied: pyzmq>=16.0.0 in /srv/conda/lib/python3.7/site-packages (from tushare) (18.0.0)\n",
      "Requirement already satisfied: pytz>=2011k in /srv/conda/lib/python3.7/site-packages (from pandas>=0.18.0->tushare) (2018.9)\n",
      "Requirement already satisfied: numpy>=1.12.0 in /srv/conda/lib/python3.7/site-packages (from pandas>=0.18.0->tushare) (1.15.4)\n",
      "Requirement already satisfied: python-dateutil>=2.5.0 in /srv/conda/lib/python3.7/site-packages (from pandas>=0.18.0->tushare) (2.7.5)\n",
      "Requirement already satisfied: chardet<3.1.0,>=3.0.2 in /srv/conda/lib/python3.7/site-packages (from requests>=2.0.0->tushare) (3.0.4)\n",
      "Requirement already satisfied: urllib3<1.25,>=1.21.1 in /srv/conda/lib/python3.7/site-packages (from requests>=2.0.0->tushare) (1.24.1)\n",
      "Requirement already satisfied: certifi>=2017.4.17 in /srv/conda/lib/python3.7/site-packages (from requests>=2.0.0->tushare) (2018.11.29)\n",
      "Requirement already satisfied: idna<2.9,>=2.5 in /srv/conda/lib/python3.7/site-packages (from requests>=2.0.0->tushare) (2.8)\n",
      "Requirement already satisfied: six>=1.5 in /srv/conda/lib/python3.7/site-packages (from python-dateutil>=2.5.0->pandas>=0.18.0->tushare) (1.12.0)\n",
      "Collecting bs4\n",
      "Collecting beautifulsoup4 (from bs4)\n",
      "  Using cached https://files.pythonhosted.org/packages/1d/5d/3260694a59df0ec52f8b4883f5d23b130bc237602a1411fa670eae12351e/beautifulsoup4-4.7.1-py3-none-any.whl\n",
      "Collecting soupsieve>=1.2 (from beautifulsoup4->bs4)\n",
      "  Using cached https://files.pythonhosted.org/packages/77/78/bca00cc9fa70bba1226ee70a42bf375c4e048fe69066a0d9b5e69bc2a79a/soupsieve-1.8-py2.py3-none-any.whl\n",
      "Installing collected packages: soupsieve, beautifulsoup4, bs4\n",
      "Successfully installed beautifulsoup4-4.7.1 bs4-0.0.1 soupsieve-1.8\n",
      "Collecting seaborn\n",
      "  Using cached https://files.pythonhosted.org/packages/a8/76/220ba4420459d9c4c9c9587c6ce607bf56c25b3d3d2de62056efe482dadc/seaborn-0.9.0-py3-none-any.whl\n",
      "Requirement already satisfied: matplotlib>=1.4.3 in /srv/conda/lib/python3.7/site-packages (from seaborn) (3.0.2)\n",
      "Requirement already satisfied: scipy>=0.14.0 in /srv/conda/lib/python3.7/site-packages (from seaborn) (1.2.1)\n",
      "Requirement already satisfied: pandas>=0.15.2 in /srv/conda/lib/python3.7/site-packages (from seaborn) (0.24.1)\n",
      "Requirement already satisfied: numpy>=1.9.3 in /srv/conda/lib/python3.7/site-packages (from seaborn) (1.15.4)\n",
      "Requirement already satisfied: kiwisolver>=1.0.1 in /srv/conda/lib/python3.7/site-packages (from matplotlib>=1.4.3->seaborn) (1.0.1)\n",
      "Requirement already satisfied: cycler>=0.10 in /srv/conda/lib/python3.7/site-packages (from matplotlib>=1.4.3->seaborn) (0.10.0)\n",
      "Requirement already satisfied: python-dateutil>=2.1 in /srv/conda/lib/python3.7/site-packages (from matplotlib>=1.4.3->seaborn) (2.7.5)\n",
      "Requirement already satisfied: pyparsing!=2.0.4,!=2.1.2,!=2.1.6,>=2.0.1 in /srv/conda/lib/python3.7/site-packages (from matplotlib>=1.4.3->seaborn) (2.3.1)\n",
      "Requirement already satisfied: pytz>=2011k in /srv/conda/lib/python3.7/site-packages (from pandas>=0.15.2->seaborn) (2018.9)\n",
      "Requirement already satisfied: setuptools in /srv/conda/lib/python3.7/site-packages (from kiwisolver>=1.0.1->matplotlib>=1.4.3->seaborn) (40.8.0)\n",
      "Requirement already satisfied: six in /srv/conda/lib/python3.7/site-packages (from cycler>=0.10->matplotlib>=1.4.3->seaborn) (1.12.0)\n",
      "Installing collected packages: seaborn\n",
      "Successfully installed seaborn-0.9.0\n",
      "Collecting CAL\n",
      "  Using cached https://files.pythonhosted.org/packages/13/7d/ab20e1f4ea529847a3bc57910cfca294e33d394d2d506e6be2060193f172/CAL-2.2.6-py2.py3-none-any.whl\n",
      "Collecting TFL (from CAL)\n",
      "  Using cached https://files.pythonhosted.org/packages/bc/36/ebe7438f627231a08dfeaca1a4750426fd8809d377c3036d0e91400b4976/TFL-2.2.6-py2.py3-none-any.whl\n",
      "Requirement already satisfied: python-dateutil in /srv/conda/lib/python3.7/site-packages (from CAL) (2.7.5)\n",
      "Collecting TFL-STP (from TFL->CAL)\n",
      "  Using cached https://files.pythonhosted.org/packages/f7/d1/9e4fa0d8da4f76ddd58d532373019234d9f3010c547ba3a4fcbb60a44080/TFL_STP-0.9.8-py2.py3-none-any.whl\n",
      "Requirement already satisfied: six>=1.5 in /srv/conda/lib/python3.7/site-packages (from python-dateutil->CAL) (1.12.0)\n",
      "Installing collected packages: TFL-STP, TFL, CAL\n",
      "Successfully installed CAL-2.2.6 TFL-2.2.6 TFL-STP-0.9.8\n",
      "Collecting xlrd\n",
      "  Using cached https://files.pythonhosted.org/packages/b0/16/63576a1a001752e34bf8ea62e367997530dc553b689356b9879339cf45a4/xlrd-1.2.0-py2.py3-none-any.whl\n",
      "Installing collected packages: xlrd\n",
      "Successfully installed xlrd-1.2.0\n"
     ]
    }
   ],
   "source": [
    "!pip install --user arch\n",
    "!pip install --user tushare\n",
    "!pip install --user bs4\n",
    "!pip install --user seaborn\n",
    "!pip install --user CAL\n",
    "!pip install --user xlrd"
   ]
  },
  {
   "cell_type": "code",
   "execution_count": 4,
   "metadata": {},
   "outputs": [
    {
     "name": "stdout",
     "output_type": "stream",
     "text": [
      "Requirement already satisfied: statsmodels in /srv/conda/lib/python3.7/site-packages (0.9.0)\n",
      "Requirement already satisfied: pandas in /srv/conda/lib/python3.7/site-packages (from statsmodels) (0.24.1)\n",
      "Requirement already satisfied: patsy in /srv/conda/lib/python3.7/site-packages (from statsmodels) (0.5.1)\n",
      "Requirement already satisfied: python-dateutil>=2.5.0 in /srv/conda/lib/python3.7/site-packages (from pandas->statsmodels) (2.7.5)\n",
      "Requirement already satisfied: pytz>=2011k in /srv/conda/lib/python3.7/site-packages (from pandas->statsmodels) (2018.9)\n",
      "Requirement already satisfied: numpy>=1.12.0 in /srv/conda/lib/python3.7/site-packages (from pandas->statsmodels) (1.15.4)\n",
      "Requirement already satisfied: six in /srv/conda/lib/python3.7/site-packages (from patsy->statsmodels) (1.12.0)\n"
     ]
    }
   ],
   "source": [
    "!pip install --user statsmodels\n"
   ]
  },
  {
   "cell_type": "code",
   "execution_count": null,
   "metadata": {},
   "outputs": [],
   "source": []
  }
 ],
 "metadata": {
  "kernelspec": {
   "display_name": "Python 3",
   "language": "python",
   "name": "python3"
  },
  "language_info": {
   "codemirror_mode": {
    "name": "ipython",
    "version": 3
   },
   "file_extension": ".py",
   "mimetype": "text/x-python",
   "name": "python",
   "nbconvert_exporter": "python",
   "pygments_lexer": "ipython3",
   "version": "3.7.1"
  }
 },
 "nbformat": 4,
 "nbformat_minor": 2
}
