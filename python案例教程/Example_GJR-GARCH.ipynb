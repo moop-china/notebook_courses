{
 "metadata": {
  "name": "",
 },
 "nbformat": 3,
 "nbformat_minor": 0,
 "worksheets": [
  {
   "cells": [
    {
     "cell_type": "markdown",
     "metadata": {},
     "source": [
      "### IPython Notebook Setup\n",
      "\n",
      "This command is used to set the location of the data directory.\n",
      "\n",
      "    import os\n",
      "    os.chdir(r'C:\\Users\\kevin.sheppard\\Dropbox\\Teaching\\Graduate\\Python\\Python_Introduction\\data')\n"
     ]
    },
    {
     "cell_type": "code",
     "collapsed": false,
     "input": [
      "import os\n",
      "os.chdir(r'C:\\Users\\kevin.sheppard\\Dropbox\\Teaching\\Graduate\\2013-MFE\\Python\\Python_Introduction\\data')"
     ],
     "language": "python",
     "metadata": {},
     "outputs": [],
     "prompt_number": 2
    },
    {
     "cell_type": "markdown",
     "metadata": {},
     "source": [
      "# Estimating the Parameters of a GARCH Model\n",
      "\n",
      "This example will highlight the steps needed to estimate the parameters of a GJR-GARCH(1,1,1) model with a constant mean. The volatility dynamics in a GJR-GARCH model are given by \n",
      "\n",
      "$$\\sigma_{t}^{2}=\\omega+\\sum_{i=1}^{p}\\alpha_{i}\\epsilon_{t-i}^{2}+\\sum_{j=1}^{o}\\gamma_{j}\\epsilon_{t-j}^{2}I_{\\left[\\epsilon_{t-j}<0\\right]}+\\sum_{k=1}^{q}\\beta_{k}\\sigma_{t-k}^{2}.$$\n",
      "\n",
      "Returns are assumed to be conditionally normal, $r_{t}|\\mathcal{F}_{t-1}\\sim N\\left(\\mu,\\sigma_{t}^{2}\\right)$, $\\epsilon_{t}=r_{t}-\\mu$ and parameters are estimated by maximum likelihood. To estimate the parameters, it is necessary to:\n",
      "\n",
      "1. Produce some starting values\n",
      "2. Estimate the parameters using (quasi-) maximum likelihood\n",
      "3. Compute standard errors using a \u201csandwich\u201d covariance estimator (also known as the [BollerslevWooldridge::1992] covariance estimator)\n",
      "\n",
      "The first task is to write the log-likelihood which can be used in an optimizer. The log-likelihood function will compute the volatility recursion and the log-likelihood. It will also, optionally, return the $T$ by 1 vector of individual log-likelihoods which are useful when approximating the scores."
     ]
    },
    {
     "cell_type": "code",
     "collapsed": false,
     "input": [
      "from __future__ import print_function, division \n",
      "import numpy as np\n",
      "import matplotlib.pyplot as plt\n",
      "from numpy import size, log, pi, sum, diff, array, zeros, diag, dot, mat, asarray, sqrt, copy\n",
      "from numpy.linalg import inv\n",
      "from pandas import read_csv \n",
      "from scipy.optimize import fmin_slsqp"
     ],
     "language": "python",
     "metadata": {},
     "outputs": [],
     "prompt_number": 3
    },
    {
     "cell_type": "markdown",
     "metadata": {},
     "source": [
      "The conditional log-likelihood of a normal random variable is\n",
      "\n",
      "$$\\ln f\\left(r_{t}|\\mu,\\sigma_{t}^{2}\\right)=-\\frac{1}{2}\\left(\\ln2\\pi+\\ln\\sigma_{t}^{2}+\\frac{\\left(r_{t}-\\mu\\right)^{2}}{\\sigma_{t}^{2}}\\right),$$\n",
      "\n",
      "which is negated in the code since the optimizers all minimize."
     ]
    },
    {
     "cell_type": "code",
     "collapsed": false,
     "input": [
      "def gjr_garch_likelihood(parameters, data, sigma2, out=None):\n",
      "    ''' Returns negative log-likelihood for GJR-GARCH(1,1,1) model.'''\n",
      "    mu = parameters[0]\n",
      "    omega = parameters[1]\n",
      "    alpha = parameters[2]\n",
      "    gamma = parameters[3]\n",
      "    beta = parameters[4]\n",
      "    \n",
      "    T = size(data,0)\n",
      "    eps = data - mu\n",
      "    # Data and sigma2 are T by 1 vectors\n",
      "    for t in xrange(1,T):\n",
      "        sigma2[t] = (omega + alpha * eps[t-1]**2 \n",
      "                     + gamma * eps[t-1]**2 * (eps[t-1]<0) + beta * sigma2[t-1])\n",
      "    \n",
      "    logliks = 0.5*(log(2*pi) + log(sigma2) + eps**2/sigma2)\n",
      "    loglik = sum(logliks)\n",
      "    \n",
      "    if out is None:\n",
      "        return loglik\n",
      "    else:\n",
      "        return loglik, logliks, copy(sigma2)"
     ],
     "language": "python",
     "metadata": {},
     "outputs": [],
     "prompt_number": 4
    },
    {
     "cell_type": "markdown",
     "metadata": {},
     "source": [
      "The keyword argument `out` has a default value of `None`, and is used to determine whether to return 1 output or 3. This is common practice since the optimizer requires a single output -- the log-likelihood function value, but it is also useful to be able to output other useful quantities, such as $\\left\\{ \\sigma_{t}^{2}\\right\\}$.\n",
      "\n",
      "The optimization is constrained so that $\\alpha+\\gamma/2+\\beta\\leq 1$, and the constraint is provided in a separate function."
     ]
    },
    {
     "cell_type": "code",
     "collapsed": false,
     "input": [
      "def gjr_constraint(parameters, data, sigma2, out=None):\n",
      "    ''' Constraint that alpha+gamma/2+beta<=1'''\n",
      "    \n",
      "    alpha = parameters[2]\n",
      "    gamma = parameters[3]\n",
      "    beta = parameters[4]\n",
      "\n",
      "    return array([1-alpha-gamma/2-beta])"
     ],
     "language": "python",
     "metadata": {},
     "outputs": [],
     "prompt_number": 5
    },
    {
     "cell_type": "markdown",
     "metadata": {},
     "source": [
      "Note that the constraint function takes the same inputs as the negative of the log-likelihood function, even though only parameters is required to compute the constraint.\n",
      "\n",
      "It is necessary to discuss one other function before proceeding with the main block of code. The asymptotic variance is estimated using the \u201csandwich\u201d form which is commonly expressed as\n",
      "\n",
      "$$\\mathcal{J}^{-1}\\mathcal{I}\\mathcal{J}^{-1}$$\n",
      "\n",
      "where $\\mathcal{J}$ is the expected Hessian and $\\mathcal{I}$ is the covariance of the scores. Both are numerically approximated, and the strategy for computing the Hessian is to use the definition that \n",
      "\n",
      "$$\\mathcal{J}_{ij}\\approx\\frac{f\\left(\\theta+e_{i}h_{i}+e_{j}h_{j}\\right)-f\\left(\\theta+e_{i}h_{i}\\right)-f\\left(\\theta+e_{j}h_{j}\\right)+f\\left(\\theta\\right)}{h_{i}h_{j}}$$\n",
      "\n",
      "where $h_{i}$ is a scalar \u201cstep size\u201d and $e_{i}$ is a vector of 0s except for element $i$, which is 1. A 2-sided version of this approximation, which takes both forward and backward steps and then averages, is below. For more on numerical derivatives, see [FlanneryPressTeukolskyTeukolsky::1992]."
     ]
    },
    {
     "cell_type": "code",
     "collapsed": false,
     "input": [
      "def hessian_2sided(fun, theta, args):\n",
      "    f = fun(theta, *args)\n",
      "    h = 1e-5*np.abs(theta)\n",
      "    thetah = theta + h\n",
      "    h = thetah - theta\n",
      "    K = size(theta,0)\n",
      "    h = np.diag(h)\n",
      "    \n",
      "    fp = zeros(K)\n",
      "    fm = zeros(K)\n",
      "    for i in xrange(K):\n",
      "        fp[i] = fun(theta+h[i], *args)\n",
      "        fm[i] = fun(theta-h[i], *args)\n",
      "        \n",
      "    fpp = zeros((K,K))\n",
      "    fmm = zeros((K,K))\n",
      "    for i in xrange(K):\n",
      "        for j in xrange(i,K):\n",
      "            fpp[i,j] = fun(theta + h[i] + h[j],  *args)\n",
      "            fpp[j,i] = fpp[i,j]\n",
      "            fmm[i,j] = fun(theta - h[i] - h[j],  *args)\n",
      "            fmm[j,i] = fmm[i,j]\n",
      "            \n",
      "    hh = (diag(h))\n",
      "    hh = hh.reshape((K,1))\n",
      "    hh = dot(hh,hh.T)\n",
      "    \n",
      "    H = zeros((K,K))\n",
      "    for i in xrange(K):\n",
      "        for j in xrange(i,K):\n",
      "            H[i,j] = (fpp[i,j] - fp[i] - fp[j] + f \n",
      "                       + f - fm[i] - fm[j] + fmm[i,j])/hh[i,j]/2\n",
      "            H[j,i] = H[i,j]\n",
      "    \n",
      "    return H"
     ],
     "language": "python",
     "metadata": {},
     "outputs": [],
     "prompt_number": 6
    },
    {
     "cell_type": "markdown",
     "metadata": {},
     "source": [
      "Finally, the code that does the actual work can be written. The first block imports the data, flips it using a slicing operator, and computes 100 times returns. Scaling data can be useful to improve optimizer performance, and ideally estimated parameters should have similar magnitudes (i.e. $\\omega\\approx.01$  and $\\alpha\\approx.05$)."
     ]
    },
    {
     "cell_type": "code",
     "collapsed": false,
     "input": [
      "# Import data\n",
      "FTSEdata = read_csv('FTSE_1984_2012.csv', parse_dates=[0])\n",
      "# Flip upside down\n",
      "FTSEdata = FTSEdata[::-1]\n",
      "# Compute returns\n",
      "FTSEprice = FTSEdata['Adj Close']\n",
      "FTSEreturn = 100*diff(log(FTSEprice).values)"
     ],
     "language": "python",
     "metadata": {},
     "outputs": [],
     "prompt_number": 7
    },
    {
     "cell_type": "markdown",
     "metadata": {},
     "source": [
      "Good starting values are important. These are my guesses based on experience fitting these types of models models. An alternative is to attempt a crude grid search and use the best (smallest) log-likelihood value from the grid search."
     ]
    },
    {
     "cell_type": "code",
     "collapsed": false,
     "input": [
      "# Starting values\n",
      "startingVals = array([FTSEreturn.mean(),\n",
      "                      FTSEreturn.var() * .01,\n",
      "                      .03, .09, .90])"
     ],
     "language": "python",
     "metadata": {},
     "outputs": [],
     "prompt_number": 8
    },
    {
     "cell_type": "markdown",
     "metadata": {},
     "source": [
      "Bounds are used in estimation to ensure that all parameters in the conditional variance are $\\geq 0$  and to set sensible upper bounds on the mean and $\\omega$. The vector `sigma2` is then initialized, and the arguments are placed in a tuple. "
     ]
    },
    {
     "cell_type": "code",
     "collapsed": false,
     "input": [
      "# Estimate parameters\n",
      "finfo = np.finfo(np.float64)\n",
      "bounds = [(-10*FTSEreturn.mean(), 10*FTSEreturn.mean()),\n",
      "          (finfo.eps, 2*FTSEreturn.var() ),\n",
      "          (0.0,1.0), (0.0,1.0), (0.0,1.0)]\n",
      "       \n",
      "T = size(FTSEreturn,0)\n",
      "sigma2 = np.repeat(FTSEreturn.var(),T)\n",
      "args = (FTSEreturn, sigma2)\n",
      "estimates = fmin_slsqp(gjr_garch_likelihood, startingVals, \\\n",
      "           f_ieqcons=gjr_constraint, bounds = bounds, \\\n",
      "           args = args)"
     ],
     "language": "python",
     "metadata": {},
     "outputs": [
      {
       "output_type": "stream",
       "stream": "stdout",
       "text": [
        "Optimization terminated successfully.    (Exit mode 0)\n",
        "            Current function value: 9574.90604516\n",
        "            Iterations: 13\n",
        "            Function evaluations: 108\n",
        "            Gradient evaluations: 13\n"
       ]
      }
     ],
     "prompt_number": 9
    },
    {
     "cell_type": "markdown",
     "metadata": {},
     "source": [
      "The optimized log-likelihood and the time series of variances are computed by calling the objective using the keyword argument `out=True`. "
     ]
    },
    {
     "cell_type": "code",
     "collapsed": false,
     "input": [
      "loglik, logliks, sigma2final = gjr_garch_likelihood(estimates, \\\n",
      "                               FTSEreturn, sigma2, out=True)"
     ],
     "language": "python",
     "metadata": {},
     "outputs": [],
     "prompt_number": 10
    },
    {
     "cell_type": "markdown",
     "metadata": {},
     "source": [
      "Next, the numerical scores and the covariance of the scores are computed. These exploit the definition of a derivative, so that for a scalar function, \n",
      "\n",
      "$$\\frac{\\partial f\\left(\\theta\\right)}{\\partial\\theta_{i}}\\approx\\frac{f\\left(\\theta+e_{i}h_{i}\\right)-f\\left(\\theta\\right)}{h_{i}}.$$\n",
      " \n",
      "The covariance is computed as the outer product of the scores since the scores should have mean 0 when evaluated at the solution to the optimization problem."
     ]
    },
    {
     "cell_type": "code",
     "collapsed": false,
     "input": [
      "step = 1e-5 * estimates\n",
      "scores = np.zeros((T,5))\n",
      "for i in xrange(5):\n",
      "    h = step[i]\n",
      "    delta = np.zeros(5)\n",
      "    delta[i] = h\n",
      "    \n",
      "    loglik, logliksplus, sigma2 = gjr_garch_likelihood(estimates + delta, \\\n",
      "                               FTSEreturn, sigma2, out=True)\n",
      "    loglik, logliksminus, sigma2 = gjr_garch_likelihood(estimates - delta, \\\n",
      "                               FTSEreturn, sigma2, out=True)                                   \n",
      "    scores[:,i] = (logliksplus - logliksminus)/(2*h)\n",
      "\n",
      "I = np.dot(scores.T,scores)/T"
     ],
     "language": "python",
     "metadata": {},
     "outputs": [],
     "prompt_number": 11
    },
    {
     "cell_type": "markdown",
     "metadata": {},
     "source": [
      "The next block calls `hessian_2sided` to estimate the Hessian, and then computes the asymptotic covariance."
     ]
    },
    {
     "cell_type": "code",
     "collapsed": false,
     "input": [
      "J = hessian_2sided(gjr_garch_likelihood, estimates, args)\n",
      "J = J/T\n",
      "Jinv = mat(inv(J))\n",
      "vcv = Jinv*mat(I)*Jinv/T\n",
      "vcv = asarray(vcv)"
     ],
     "language": "python",
     "metadata": {},
     "outputs": [],
     "prompt_number": 12
    },
    {
     "cell_type": "markdown",
     "metadata": {},
     "source": [
      "The penultimate step is to pretty print the results and to produce a plot of the conditional variances."
     ]
    },
    {
     "cell_type": "code",
     "collapsed": false,
     "input": [
      "output = np.vstack((estimates,sqrt(diag(vcv)),estimates/sqrt(diag(vcv)))).T    \n",
      "print('Parameter   Estimate    Std Err    T-stat')\n",
      "print('---------   --------    -------    ------')\n",
      "param = ['mu','omega','alpha','gamma','beta']\n",
      "for i in xrange(len(param)):\n",
      "    print('{0:<11} {1:>0.4f}      {2:0.4f}     {3: 0.3f}'.format(param[i],output[i,0],output[i,1],output[i,2]))"
     ],
     "language": "python",
     "metadata": {},
     "outputs": [
      {
       "output_type": "stream",
       "stream": "stdout",
       "text": [
        "Parameter   Estimate    Std Err    T-stat\n",
        "---------   --------    -------    ------\n",
        "mu          0.0288      0.0100      2.870\n",
        "omega       0.0180      0.0034      5.308\n",
        "alpha       0.0313      0.0069      4.551\n",
        "gamma       0.0899      0.0132      6.828\n",
        "beta        0.9057      0.0099      91.872\n"
       ]
      }
     ],
     "prompt_number": 13
    },
    {
     "cell_type": "markdown",
     "metadata": {},
     "source": [
      "This final block produces a plot of the annualized conditional standard deviations."
     ]
    },
    {
     "cell_type": "code",
     "collapsed": false,
     "input": [
      "# Produce a plot                               \n",
      "dates = FTSEdata.Date[1:] \n",
      "fig = plt.figure()\n",
      "ax = fig.add_subplot(111)                              \n",
      "ax.plot(dates,np.sqrt(252*sigma2))\n",
      "fig.autofmt_xdate()\n",
      "ax.set_ylabel('Volatility')\n",
      "ax.set_title('Annualized FTSE Volatility (GJR GARCH(1,1,1))')"
     ],
     "language": "python",
     "metadata": {},
     "outputs": [
      {
       "metadata": {},
       "output_type": "pyout",
       "prompt_number": 14,
       "text": [
        "<matplotlib.text.Text at 0x80ee470>"
       ]
      },
      {
       "metadata": {},
       "output_type": "display_data",
       "png": "iVBORw0KGgoAAAANSUhEUgAAAXsAAAD/CAYAAAAQaHZxAAAABHNCSVQICAgIfAhkiAAAAAlwSFlz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\nEonEBpCDvUQikdgA/wG8Srxs1AN49wAAAABJRU5ErkJggg==\n",
       "text": [
        "<matplotlib.figure.Figure at 0x80e1b00>"
       ]
      }
     ],
     "prompt_number": 14
    }
   ],
   "metadata": {}
  }
 ]
}