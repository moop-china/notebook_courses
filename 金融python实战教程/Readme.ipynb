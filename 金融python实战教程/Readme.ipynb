{
 "cells": [
  {
   "cell_type": "markdown",
   "metadata": {},
   "source": [
    "## 说明\n",
    "\n",
    "#### 对象：\n",
    "- 金融学院学生\n",
    "- 其他利用jupyter做金融数据分析的初学者\n",
    "\n",
    "#### 主要内容：\n",
    "- 介绍jupyter，重点说明notebook的应用，\n",
    "- 金融常用数据分析算法\n",
    "- 随着平台功能不断完善，该教程也将不断补充和完善。\n",
    "\n",
    "#### 目的：\n",
    "- 了解jupyter平台\n",
    "- 能独立完成简单的金融数据分析\n",
    "- 该教程学习后，可以自主学习其他相关知识。"
   ]
  },
  {
   "cell_type": "markdown",
   "metadata": {},
   "source": [
    "## 要求：\n",
    "- jupyter\n",
    "- python 3.x\n",
    "- packages:numpy、pandas、matplotlib、mpl_finance、plotly、tqdm、statsmodels、scipy、sklearn等。"
   ]
  },
  {
   "cell_type": "markdown",
   "metadata": {},
   "source": [
    "## 目录：\n",
    "\n",
    "- Data：    数据源\n",
    "\n",
    "- Baseinfo：金融数据分析基础\n",
    "             目录结构：数据分析过程\n",
    "             教学目的：储备知识（编程语言的基础语法掌握，常用包和功能的了解）\n",
    "             \n",
    "- Beginners:金融统计学习方法。\n",
    "             目录结构：模型（样本数据）\n",
    "             教学目的：积累经验（实践数据分析过程，了解数据分析一般思路）\n",
    "- Advanced: 金融解决方案。\n",
    "             目录结构：业务问题（真实数据）\n",
    "             教学目的：提升能力（深入了解模型原理、应用场景。提升解决实际问题的能力）\n",
    "             \n",
    "- output:   存储代码运行的结果\n",
    "\n",
    "- 走近jupyter：对jupyter的基础功能的了解\n",
    "\n",
    "- pictures :图像"
   ]
  },
  {
   "cell_type": "code",
   "execution_count": null,
   "metadata": {},
   "outputs": [],
   "source": []
  }
 ],
 "metadata": {
  "kernelspec": {
   "display_name": "Python 3",
   "language": "python",
   "name": "python3"
  },
  "language_info": {
   "codemirror_mode": {
    "name": "ipython",
    "version": 3
   },
   "file_extension": ".py",
   "mimetype": "text/x-python",
   "name": "python",
   "nbconvert_exporter": "python",
   "pygments_lexer": "ipython3",
   "version": "3.7.1"
  }
 },
 "nbformat": 4,
 "nbformat_minor": 2
}
