{
 "cells": [
  {
   "cell_type": "markdown",
   "metadata": {},
   "source": [
    "# 第一部分 课程内容\n",
    "\n",
    "* 教学目的\n",
    "\n",
    "    本节教程将介绍Fama-French的三因子模型，以及实际的应用。*函数*是python的重要组成部分，但是在notebook中很少被使用到，这个教程将展现函数的力量。在编程的过程中使用到python的自函数，可以方便我们重用代码，节约时间。\n",
    "    \n",
    "    三因子模型的提出是基于美国股市历史回报率的实证研究结果，目的在于解释股票市场的平均回报率受到哪些风险溢价因素的影响，在CAPM模型（资本资产定价模型）基础上，增加了市净率和公司规模对平均回报率影响的考虑。\n",
    "    \n",
    "* 教学材料\n",
    "\n",
    "    我们将针对中证500成份股从2007.6到2016.5的数据进行实证研究，以验证三因子模型的有效性。\n",
    "    \n",
    "    我们要使用一些数据分析和画图的基础包，并且使用时间处理包CAL。\n"
   ]
  },
  {
   "cell_type": "markdown",
   "metadata": {},
   "source": [
    "## 1 Fama-French 三因子模型基本原理\n",
    "### 1.1 三因子模型具体形式\n",
    "\n",
    "Fama-French三因子模型是量化领域最经典的模型之一，该模型的提出是在论文《commom risk factors in returns on bonds and stocks》里。在资本资产定价模型（CAPM）等传统理论下，投资组合的全部风险溢价由一个系数表示。但是这一模型在解释股票市场回报的现实情况上，遇到了诸多困难，三因子模型通过引入两个新的解释变量：市净率、公司规模，与CAPM中的市场指数一同估计股票的回报水平，即：\n",
    "\n",
    "$$\n",
    "E(R(t))=R_f(t)+\\beta E(R_M(t)-R_f(t))+sE(SMB(t))+hE(HML(t))+\\alpha\n",
    "$$\n",
    "\n",
    "$R_f$是市场无风险收益率,$R_M$是市场组合的收益率，$R_M-R_f$表示的是市场因子，$SMB$表示的是规模(市值)因子，$HML$表示账面市值比因子，即市净率溢价，$\\alpha$是超额收益率，在理想的情况下，投资组合的超额回报将全部被三因素解释，从而$\\alpha$ 应在统计学意义上等于0.。"
   ]
  },
  {
   "cell_type": "markdown",
   "metadata": {},
   "source": [
    "### 1.2 Black-Jensen-Scholes时间序列回归\n",
    "\n",
    "横截面回归大家都非常熟悉，无论是单变量还是多变量回归，都是在研究解释变量对响应变量的解释能力。Black-Jensen-Scholes时间序列回归的方法是Black,Jensen和Scholes所提出来验证CAPM的。早期的验证方法是先使用一个单只股票的时间序列回归估计参数，再用横截面回归验证CAPM推出的假设。但是这样回归会有问题，时间序列回归则是提出的改进算法，即根据前一期估计的贝塔值对股票排序再进行分组，分别估计各投资组合的参数，每五年重新估计，然后检验各个投资组合的阿尔法是否显著为0。\n",
    "$$\n",
    "E(R(t))=R_f(t) +\\beta(E(R_M(t))-R_f(t))+\\alpha\n",
    "$$\n",
    "\n",
    "### 1.3 解释变量\n",
    "解释变量就是我们需要验证的三个因子，市场超额收益，规模和账面市值比。我们要按照论文里的思路对其进行处理。\n",
    "\n",
    "1. 把股票按每年5月末时的市值（size）大小进行排序，按照50%分位值把股票分为S(small)和B(big)两组；\n",
    "2. 再依据5月末时的账面市值比（我们取1/PB）大小对500只股票进行排序，分为L（low，30%）,M(medium,40%),H(high,30%)三组;\n",
    "3. 再分别对S,B和L,M,H取交集，股票即被分为了SL,SM,SH,BL,BM,BH六组。也就是说，分组每年5月末进行一次，800只股票每次被重新分为了SL,SM,SH,BL,BM,BH六组，前一年6月到第二年5月重新分组时的投资组合都是一样的\n",
    "\n",
    "这里为什么要按市值分为两组，按账面市值比分为三组呢？\n",
    "是因为账面市值比有更强的作用，我们要把它分得更细。\n",
    "\n",
    "### 1.4 因子\n",
    "市值因子：\n",
    "$$\n",
    "SMB = 1/3*(SL+SM+SH)-1/3*(BL+BM+BH)\n",
    "$$\n",
    "表示的是由于公司规模不同造成的风险溢价\n",
    "\n",
    "账面市值比因子:\n",
    "$$\n",
    "HML = (SH+BH)/2-(SL+BL)/2\n",
    "$$\n",
    "表示由于账面市值比不同造成的风险溢价\n",
    "\n",
    "可以看出因子的值是一个市值加权月收益率序列,我们研究了九年的数据，所以因子的长度是9*12=108"
   ]
  },
  {
   "cell_type": "code",
   "execution_count": 3,
   "metadata": {},
   "outputs": [],
   "source": [
    "import numpy as np\n",
    "import pandas as pd\n",
    "import scipy.stats as stats\n",
    "from sklearn import linear_model\n",
    "import statsmodels.api as sm\n",
    "from statsmodels.sandbox.regression.predstd import wls_prediction_std\n",
    "# 画图包\n",
    "import matplotlib as mpl\n",
    "import matplotlib.pyplot as plt\n",
    "mpl.style.use('ggplot')\n",
    "import seaborn as sns\n",
    "\n",
    "import tushare as ts\n",
    "import datetime\n",
    "# from CAL.PyCAL import *"
   ]
  },
  {
   "cell_type": "code",
   "execution_count": 46,
   "metadata": {},
   "outputs": [],
   "source": [
    "end='2019-02-27'\n",
    "value=ts.get_hist_data('000028', start=end, end=end)\n"
   ]
  },
  {
   "cell_type": "code",
   "execution_count": 47,
   "metadata": {},
   "outputs": [
    {
     "name": "stdout",
     "output_type": "stream",
     "text": [
      "        date    code  name  weight\n",
      "0 2019-02-27  600006  东风汽车    0.09\n",
      "1 2019-02-27  600008  首创股份    0.25\n",
      "2 2019-02-27  600017   日照港    0.17\n",
      "3 2019-02-27  600021  上海电力    0.26\n",
      "4 2019-02-27  600022  山东钢铁    0.34\n",
      "             date  name  weight  value\n",
      "code                                  \n",
      "600006 2019-02-27  东风汽车    0.09   4.26\n",
      "600008 2019-02-27  首创股份    0.25   4.00\n",
      "600017 2019-02-27   日照港    0.17   3.26\n",
      "600021 2019-02-27  上海电力    0.26   8.95\n",
      "600022 2019-02-27  山东钢铁    0.34   1.89\n",
      "600026 2019-02-27  中远海能    0.22   5.86\n",
      "600037 2019-02-27  歌华有线    0.21  10.77\n",
      "600039 2019-02-27  四川路桥    0.22   3.72\n",
      "600053 2019-02-27  九鼎投资    0.11  29.46\n",
      "600056 2019-02-27  中国医药    0.22  15.09\n",
      "600058 2019-02-27  五矿发展    0.09   7.93\n",
      "600060 2019-02-27  海信电器    0.21   9.56\n",
      "600062 2019-02-27  华润双鹤    0.19  13.11\n",
      "600064 2019-02-27  南京高科    0.22   9.31\n",
      "600073 2019-02-27  上海梅林    0.16   8.53\n",
      "600079 2019-02-27  人福医药    0.28  10.82\n",
      "600086 2019-02-27  东方金钰    0.10   5.09\n",
      "600094 2019-02-27   大名城    0.19   4.37\n",
      "600098 2019-02-27  广州发展    0.14   6.19\n",
      "600120 2019-02-27  浙江东方    0.20  16.18\n",
      "600122 2019-02-27  宏图高科    0.11   4.30\n",
      "600125 2019-02-27  铁龙物流    0.20   7.92\n",
      "600126 2019-02-27  杭钢股份    0.07   5.01\n",
      "600138 2019-02-27   中青旅    0.24  15.06\n",
      "600141 2019-02-27  兴发集团    0.13  10.97\n",
      "600143 2019-02-27  金发科技    0.28   5.24\n",
      "600151 2019-02-27  航天机电    0.15   5.34\n",
      "600155 2019-02-27  华创阳安    0.14  10.00\n",
      "600158 2019-02-27  中体产业    0.20  10.53\n",
      "600160 2019-02-27  巨化股份    0.29   7.72\n",
      "...           ...   ...     ...    ...\n",
      "300133 2019-02-27  华策影视    0.17   8.43\n",
      "300134 2019-02-27  大富科技    0.15  14.10\n",
      "300146 2019-02-27  汤臣倍健    0.50  20.63\n",
      "300156 2019-02-27  神雾环保    0.07   3.98\n",
      "300159 2019-02-27  新研股份    0.15   6.06\n",
      "300166 2019-02-27  东方国信    0.29  14.32\n",
      "300168 2019-02-27  万达信息    0.33  13.48\n",
      "300182 2019-02-27  捷成股份    0.21   4.93\n",
      "300197 2019-02-27  铁汉生态    0.16   4.27\n",
      "300199 2019-02-27  翰宇药业    0.12   9.59\n",
      "300202 2019-02-27  聚龙股份    0.06   7.74\n",
      "300244 2019-02-27  迪安诊断    0.15  17.38\n",
      "300253 2019-02-27  卫宁健康    0.39  12.59\n",
      "300257 2019-02-27  开山股份    0.12  12.68\n",
      "300266 2019-02-27  兴源环境    0.10   4.00\n",
      "300274 2019-02-27  阳光电源    0.32  11.44\n",
      "300287 2019-02-27   飞利信    0.14   4.41\n",
      "300291 2019-02-27  华录百纳    0.06   5.38\n",
      "300297 2019-02-27  蓝盾股份    0.11   6.53\n",
      "300308 2019-02-27  中际旭创    0.14  54.08\n",
      "300315 2019-02-27  掌趣科技    0.29   3.83\n",
      "300316 2019-02-27  晶盛机电    0.24  13.28\n",
      "300324 2019-02-27  旋极信息    0.22   7.42\n",
      "300347 2019-02-27  泰格医药    0.52  53.41\n",
      "300376 2019-02-27   易事特    0.14   5.26\n",
      "300383 2019-02-27  光环新网    0.44  17.24\n",
      "300413 2019-02-27  芒果超媒    0.32  39.56\n",
      "300418 2019-02-27  昆仑万维    0.24  15.18\n",
      "300450 2019-02-27  先导智能    0.40  33.17\n",
      "300459 2019-02-27  金科文化    0.18   8.05\n",
      "\n",
      "[500 rows x 4 columns]\n"
     ]
    }
   ],
   "source": [
    "start='2018-02-27'\n",
    "end='2019-02-27'\n",
    "# 全部名单\n",
    "data_set=ts.get_zz500s()\n",
    "data_set.set_index('code',inplace=True)\n",
    "data_set['value']=0\n",
    "for i in data_set.index:\n",
    "    # 增加指定日期的市值数据\n",
    "    value=ts.get_hist_data(i, start=end, end=end)\n",
    "    if value.empty:\n",
    "        data_set.loc[i, 'value']=None\n",
    "    else:\n",
    "        data_set.loc[i, 'value']=value.iloc[0,2]\n",
    "    \n",
    "#     ME.append(value)\n",
    "# 计算50分位数\n",
    "print(data_set)\n",
    "# ME50=np.percentile(ME,50)\n",
    "# print(ME50)"
   ]
  },
  {
   "cell_type": "markdown",
   "metadata": {},
   "source": [
    "为了方便使用，以及为了代码整洁意义清晰，我们需要在python里自己定义方法，比如下面，定义了一个进行分组的函数get_6groups，方便对每年的数据进行分组，这样就可以把分组的逻辑和处理数据的逻辑分离开，让主体逻辑更加清晰简单，并且我们可以在一个循环里，重复使用这个方法，用同样的处理逻辑，处理不同的年份数据。"
   ]
  },
  {
   "cell_type": "code",
   "execution_count": 5,
   "metadata": {},
   "outputs": [
    {
     "name": "stdout",
     "output_type": "stream",
     "text": [
      "0      600006\n",
      "1      600008\n",
      "2      600017\n",
      "3      600021\n",
      "4      600022\n",
      "5      600026\n",
      "6      600037\n",
      "7      600039\n",
      "8      600053\n",
      "9      600056\n",
      "10     600058\n",
      "11     600060\n",
      "12     600062\n",
      "13     600064\n",
      "14     600073\n",
      "15     600079\n",
      "16     600086\n",
      "17     600094\n",
      "18     600098\n",
      "19     600120\n",
      "20     600122\n",
      "21     600125\n",
      "22     600126\n",
      "23     600138\n",
      "24     600141\n",
      "25     600143\n",
      "26     600151\n",
      "27     600155\n",
      "28     600158\n",
      "29     600160\n",
      "        ...  \n",
      "470    300133\n",
      "471    300134\n",
      "472    300146\n",
      "473    300156\n",
      "474    300159\n",
      "475    300166\n",
      "476    300168\n",
      "477    300182\n",
      "478    300197\n",
      "479    300199\n",
      "480    300202\n",
      "481    300244\n",
      "482    300253\n",
      "483    300257\n",
      "484    300266\n",
      "485    300274\n",
      "486    300287\n",
      "487    300291\n",
      "488    300297\n",
      "489    300308\n",
      "490    300315\n",
      "491    300316\n",
      "492    300324\n",
      "493    300347\n",
      "494    300376\n",
      "495    300383\n",
      "496    300413\n",
      "497    300418\n",
      "498    300450\n",
      "499    300459\n",
      "Name: code, Length: 500, dtype: object\n"
     ]
    }
   ],
   "source": [
    "# 这里的账面市值比用的是1/PB\n",
    "# breakpoint是每年进行分组的时间点，这里是每年5月末\n",
    "data_set=ts.get_zz500s()\n",
    "universe=data_set['code'].tolist()\n",
    "print(universe)\n",
    "ME=[]\n",
    "fot i in universe:\n",
    "    value=ts.get_hist_data(i, start=breakpoint, end=breakpoint)['close']\n",
    "    ME.append(value)\n",
    "# 计算50分位数\n",
    "ME50=np.percentile(ME,50)\n",
    "\n",
    "def get_6groups(breakpoint):\n",
    "    data_set=ts.get_zz500s()\n",
    "    data_set.set_index('code',inplace=True)\n",
    "    data_set['value']=0\n",
    "    for i in data_set.index:\n",
    "        # 增加指定日期的市值数据\n",
    "        value=ts.get_hist_data(i, start=end, end=end)\n",
    "        if value.empty:\n",
    "            data_set.loc[i, 'value']=None\n",
    "        else:\n",
    "            data_set.loc[i, 'value']=value.iloc[0,2]\n",
    "    ME50=np.percentile(data_set['value'],50)\n",
    "    \n",
    "    \n",
    "    C=DataAPI.MktEqudGet(ticker='000028',beginDate=str(int(breakpoint)-20),endDate=breakpoint,field=u\"ticker,tradeDate\")\n",
    "    \n",
    "    breakpoint=filter(lambda x:x.isdigit(),C.iat[len(C)-1,1])                         #取breakpoint前最近一个交易日日期\n",
    "    # universe是个列表，里面是当时的中证800股指成分股\n",
    "    universe = set_universe('000906.ZICN',date=breakpoint)\n",
    "    # ME 是800股的当时的市值\n",
    "    ME=DataAPI.MktEqudGet(tradeDate=breakpoint,secID=universe,field=u\"ticker,marketValue\").dropna()   # 取当时的市值\n",
    "    \n",
    "    # 算出市值大小的50%分位值\n",
    "    ME50=np.percentile(ME['marketValue'],50)                                    \n",
    "    # 按市值大小分为两组，存为列表\n",
    "    S=ME[ME['marketValue']<=ME50]['ticker'].tolist()                                \n",
    "    B=ME[ME['marketValue']>ME50]['ticker'].tolist()\n",
    "    \n",
    "    BP=DataAPI.MktStockFactorsOneDayGet(tradeDate=breakpoint,secID=universe,field=u\"ticker,PB\").dropna() \n",
    "    BP=BP[BP>0].dropna()                                                  # 去掉PB值为负的股票\n",
    "    BP[['PB']]=1/BP[['PB']]                                                # 取1/PB，为账面市值比\n",
    "    BP30=np.percentile(BP['PB'],30)\n",
    "    BP70=np.percentile(BP['PB'],70)\n",
    "    \n",
    "    L=BP[BP['PB']<=BP30]['ticker'].tolist()                                      # 按1/PB大小分为三组\n",
    "    H=BP[BP['PB']>BP70]['ticker'].tolist()\n",
    "    M=list(set(BP['ticker'].tolist()).difference(set(L+H)))\n",
    "    \n",
    "    SL=list(set(S).intersection(set(L)))                                       #对S组和L组的股票取交集，作为SL组的股票组合\n",
    "    SM=list(set(S).intersection(set(M)))\n",
    "    SH=list(set(S).intersection(set(H)))\n",
    "    BL=list(set(B).intersection(set(L)))\n",
    "    BM=list(set(B).intersection(set(M)))\n",
    "    BH=list(set(B).intersection(set(H)))\n",
    "    return SL,SM,SH,BL,BM,BH"
   ]
  },
  {
   "cell_type": "markdown",
   "metadata": {},
   "source": [
    "下面我们要计算每个投资组合的月收益率，计算投资组合的月收益率时，要算市值加权的收益率，这是为了最小化方差（风险）"
   ]
  },
  {
   "cell_type": "code",
   "execution_count": null,
   "metadata": {},
   "outputs": [],
   "source": [
    "# 得到投资组合x从Year的6月到Year+1的5月的月收益率序列\n",
    "def get_returnMonthly(x,Year):\n",
    "    #先用交易日日历得到Year的5月到Year+1的5月的月末交易日日期\n",
    "    data=DataAPI.TradeCalGet(exchangeCD=u\"XSHG\",beginDate=str(Year*10000+501),endDate=str((Year+1)*10000+601),field=['calendarDate','isMonthEnd'])\n",
    "    data = data[data['isMonthEnd'] == 1]\n",
    "    date= map(lambda x: x[0:4]+x[5:7]+x[8:10], data['calendarDate'].values.tolist())\n",
    "    # 调用投资组合x每只股票每个月末的市值，收盘价用来计算收盘价\n",
    "    returnMonthly=np.zeros(12)\n",
    "    for i in range(12):\n",
    "        inf1=DataAPI.MktEqudAdjGet(tradeDate=date[i],ticker=x,field=u\"ticker,closePrice\").set_index('ticker')  #前一个月的收盘价\n",
    "        inf2=DataAPI.MktEqudAdjGet(tradeDate=date[i+1],ticker=x,field=u\"ticker,marketValue,closePrice\").set_index('ticker')   #当月的收盘价和市值\n",
    "        Return=pd.concat([inf2,inf1],axis=1)\n",
    "        Return.columns=['Weight','Return','WReturn']                   #计算每只股票收益率和市值加权的权重以及两者的乘积\n",
    "        Return['Weight']=Return['Weight']/Return['Weight'].sum()\n",
    "        Return['Return']=Return['Return']/Return['WReturn']-1\n",
    "        Return['WReturn']=Return['Weight']*Return['Return']\n",
    "        returnMonthly[i]=Return['WReturn'].sum()\n",
    "    return returnMonthly"
   ]
  },
  {
   "cell_type": "code",
   "execution_count": null,
   "metadata": {},
   "outputs": [],
   "source": [
    "# 计算每年的SMB和HML因子，合在一起\n",
    "SMB=[]\n",
    "HML=[]\n",
    "r_groups=pd.DataFrame()  #用于存储每个组合的月收益率序列，方便我们之后查看\n",
    "r_groups['SL']=np.zeros(108)\n",
    "r_groups['SM']=np.zeros(108)\n",
    "r_groups['SH']=np.zeros(108)\n",
    "r_groups['BL']=np.zeros(108)\n",
    "r_groups['BM']=np.zeros(108)\n",
    "r_groups['BH']=np.zeros(108)\n",
    "\n",
    "for Year in [2007,2008,2009,2010,2011,2012,2013,2014,2015]:\n",
    "    SL,SM,SH,BL,BM,BH=get_6groups(str(Year*10000+531))  #依据当年5月末的市值和账面市值比分组\n",
    "    r_SL=get_returnMonthly(SL,Year)       #得到当年5月末到次年的市值加权月收益率序列\n",
    "    r_SM=get_returnMonthly(SM,Year)\n",
    "    r_SH=get_returnMonthly(SH,Year)\n",
    "    r_BL=get_returnMonthly(BL,Year)\n",
    "    r_BM=get_returnMonthly(BM,Year)\n",
    "    r_BH=get_returnMonthly(BH,Year)\n",
    "    \n",
    "    r_groups.iloc[(Year-2007)*12:(Year-2006)*12,[0]]=r_SL.reshape(12,1)   #把组合SL当年5月末到次年的市值加权月收益率序列\n",
    "    r_groups.iloc[(Year-2007)*12:(Year-2006)*12,[1]]=r_SM.reshape(12,1)\n",
    "    r_groups.iloc[(Year-2007)*12:(Year-2006)*12,[2]]=r_SH.reshape(12,1)\n",
    "    r_groups.iloc[(Year-2007)*12:(Year-2006)*12,[3]]=r_BL.reshape(12,1)\n",
    "    r_groups.iloc[(Year-2007)*12:(Year-2006)*12,[4]]=r_BM.reshape(12,1)\n",
    "    r_groups.iloc[(Year-2007)*12:(Year-2006)*12,[5]]=r_BH.reshape(12,1)\n",
    "    \n",
    "    SMBr=(r_SL+r_SM+r_SH)/3-(r_BL+r_BM+r_BH)/3                         #当年的SMB和HML因子，存为list\n",
    "    HMLr=(r_SH+r_BH)/2-(r_SL+r_BL)/2   \n",
    "    SMB += SMBr.tolist()\n",
    "    HML += HMLr.tolist()\n",
    "    \n",
    "SMB=np.array(SMB)\n",
    "HML=np.array(HML)"
   ]
  },
  {
   "cell_type": "code",
   "execution_count": null,
   "metadata": {},
   "outputs": [],
   "source": [
    "data=DataAPI.TradeCalGet(exchangeCD=u\"XSHG\",beginDate=str(2007*10000+501),endDate=str((2015+1)*10000+601),field=['calendarDate','isMonthEnd'])\n",
    "data = data[data['isMonthEnd'] == 1]\n",
    "date= map(lambda x: x[0:4]+x[5:7]+x[8:10], data['calendarDate'].values.tolist())\n",
    "r_groups.index=date[1:]\n",
    "r_groups.plot(figsize=[12,7])"
   ]
  },
  {
   "cell_type": "markdown",
   "metadata": {},
   "source": [
    "市场因子：\n",
    "$$\n",
    "R_M-R_f\n",
    "$$\n",
    "$R_M$取的就是中证800指数的收益，$R_f$取的是银行间质押式回购利率_同业拆借中心R007"
   ]
  },
  {
   "cell_type": "code",
   "execution_count": null,
   "metadata": {},
   "outputs": [],
   "source": [
    "#先用交易日日历得到Year的5月到Year+1的5月的月末交易日日期\n",
    "\n",
    "data=DataAPI.TradeCalGet(exchangeCD=u\"XSHG\",beginDate='20070501',endDate='20160601',field=['calendarDate','isMonthEnd'])\n",
    "data = data[data['isMonthEnd'] == 1]\n",
    "date = map(lambda x: x[0:4]+x[5:7]+x[8:10], data['calendarDate'].values.tolist())\n",
    "RmMonthly=np.zeros(108)\n",
    "RfMonthly=np.zeros(108)\n",
    "for i in range(108):\n",
    "    index1=DataAPI.MktIdxdGet(tradeDate=date[i],indexID=u\"000906.ZICN\",field=u\"closeIndex\") #上月指数收盘\n",
    "    index2=DataAPI.MktIdxdGet(tradeDate=date[i+1],indexID=u\"000906.ZICN\",field=u\"closeIndex\")  #当月指数收盘\n",
    "    RmMonthly[i]=index2['closeIndex'][0]/index1['closeIndex'][0]-1\n",
    "    rf=DataAPI.MktIborGet(ticker=u\"Shibor1D\",beginDate=date[i+1],endDate=date[i+1],field=u\"rate\")  #当月无风险收益\n",
    "    RfMonthly[i]=rf['rate'][0]/100/12    #给出的是年化无风险收益，这里需要转化成月的\n",
    "MF=RmMonthly-RfMonthly  #市场因子"
   ]
  },
  {
   "cell_type": "markdown",
   "metadata": {},
   "source": [
    "三个因子我们都得到了，再来看看三个因子的状况："
   ]
  },
  {
   "cell_type": "code",
   "execution_count": null,
   "metadata": {},
   "outputs": [],
   "source": [
    "factor=pd.DataFrame()\n",
    "factor['MF']=MF\n",
    "factor['SMB']=SMB\n",
    "factor['HML']=HML\n",
    "factor.index=date[1:]\n",
    "factor.plot(figsize=[12,7])\n",
    "factor.describe()"
   ]
  },
  {
   "cell_type": "markdown",
   "metadata": {},
   "source": [
    "到这里，我们的三个因子就处理完了，三个解释变量都做成了数组，下面可以分析一下各个因子之间的相关系数"
   ]
  },
  {
   "cell_type": "code",
   "execution_count": null,
   "metadata": {},
   "outputs": [],
   "source": [
    "x=np.zeros((3,108))\n",
    "x[0]=MF\n",
    "x[1]=SMB\n",
    "x[2]=HML\n",
    "Correlations=pd.DataFrame(np.corrcoef(x))\n",
    "Correlations.columns=['MF','SMB','HML']\n",
    "Correlations.index=['MF','SMB','HML']\n",
    "Correlations"
   ]
  },
  {
   "cell_type": "markdown",
   "metadata": {},
   "source": [
    "### 1.5 响应变量\n",
    "首先我们将股票按之前的方法分为25个组合，在每年5月末，按照市值大小将股票排序并分为5组，然后按照账面市值比大小把股票分为5组，交叉取交集，得到5\\*5=25个股票组合。\n",
    "\n",
    "也就是说，我们将作25个回归，每次回归时的解释变量都一样，响应变量不同。"
   ]
  },
  {
   "cell_type": "code",
   "execution_count": null,
   "metadata": {},
   "outputs": [],
   "source": [
    "#每年5月末，按照市值大小将股票排序分为5组\n",
    "def get_25groups(breakpoint):\n",
    "    universe = set_universe('000906.ZICN',date=breakpoint)\n",
    "    C=DataAPI.MktEqudGet(ticker='000028',beginDate=str(int(breakpoint)-20),endDate=breakpoint,field=u\"ticker,tradeDate\")\n",
    "    breakpoint=filter(lambda x:x.isdigit(),C.iat[len(C)-1,1])                             #取breakpoint前最近一个交易日日期\n",
    "    ME=DataAPI.MktEqudGet(tradeDate=breakpoint,secID=universe,field=u\"ticker,marketValue\").dropna()\n",
    "    MEq=np.zeros(6) #用于存储ME的分位值\n",
    "    ME_5=pd.Series([]) #用于存储依据市值分好的5个组\n",
    "    BP=DataAPI.MktStockFactorsOneDayGet(tradeDate=breakpoint,secID=universe,field=u\"ticker,PB\").dropna() \n",
    "    BP=BP[BP>0].dropna()                                                  #去掉PB值为负的股票\n",
    "    BP[['PB']]=1/BP[['PB']]                                               #取1/PB，为账面市值比\n",
    "    BPq=np.zeros(6)  #用于存储1/PB的分位值\n",
    "    BP_5=pd.Series([]) #用于存储依据账面市值比分好的5个组\n",
    "    for i in range(5):\n",
    "        MEq[i+1]=np.percentile(ME['marketValue'],(i+1)*20)                           #算出市值大小的20%,40%,60%,80%分位值\n",
    "        BPq[i+1]=np.percentile(BP['PB'],(i+1)*20)\n",
    "        D=ME[(ME['marketValue']>MEq[i]) & (ME['marketValue']<=MEq[i+1])]['ticker'].tolist()     #取市值处于相应分位值区间的股票\n",
    "        ME_5 = pd.concat([ME_5,pd.Series(D)],axis=1) if not ME_5.empty else pd.Series(D)        #存于dataframe里\n",
    "        E=BP[(BP['PB']>BPq[i]) & (BP['PB']<=BPq[i+1])]['ticker'].tolist()\n",
    "        BP_5 = pd.concat([BP_5,pd.Series(E)],axis=1) if not BP_5.empty else pd.Series(E)\n",
    "    ME_5.columns=range(5) #重命名列名\n",
    "    BP_5.columns=range(5)\n",
    "    Group25=pd.Series([]) #用于存著交叉取交集后的25个股票组合\n",
    "    for i in range(5):\n",
    "        for j in range(5):\n",
    "            s1=ME_5[i].dropna().tolist()\n",
    "            s2=BP_5[j].dropna().tolist() \n",
    "            stocks=pd.Series(list(set(s1).intersection(set(s2)))) #取交集\n",
    "            Group25 = pd.concat([Group25,stocks],axis=1) if not Group25.empty else stocks\n",
    "    Group25.columns=range(25)\n",
    "    return Group25"
   ]
  },
  {
   "cell_type": "markdown",
   "metadata": {},
   "source": [
    "计算25个股票组合，每个组合的市值加权月收益率序列"
   ]
  },
  {
   "cell_type": "code",
   "execution_count": null,
   "metadata": {},
   "outputs": [],
   "source": [
    "EReturn=np.zeros((25,12*9)) #用于存储25个组合的超额收益序列\n",
    "for i in range(25):\n",
    "    a=[]\n",
    "    for Year in [2007,2008,2009,2010,2011,2012,2013,2014,2015]:\n",
    "        Group25=get_25groups(str(Year*10000+531))   #每年进行分组\n",
    "        a=a+(get_returnMonthly(Group25[i].dropna().tolist(),Year)).tolist()   #收益率转化为list，方便每年相加\n",
    "    EReturn[i]=np.array(a)-RfMonthly"
   ]
  },
  {
   "cell_type": "markdown",
   "metadata": {},
   "source": [
    "我们看一下25个组合平均每年的公司数："
   ]
  },
  {
   "cell_type": "code",
   "execution_count": null,
   "metadata": {},
   "outputs": [],
   "source": [
    "number=np.zeros((25,9)) \n",
    "for i in range(25):\n",
    "    for j in range(9):\n",
    "        Group25=get_25groups(str((j+2007)*10000+531))   #每年进行分组\n",
    "        number[i][j]=len(Group25[i].dropna().tolist())\n",
    "number_mean=np.zeros(25)\n",
    "for i in range(25):\n",
    "    number_mean[i]=number[i].mean()\n",
    "numbers=pd.DataFrame(number_mean.reshape(5,5))\n",
    "numbers.columns=['small_BE/ME','1','2','3','big_BE/ME']\n",
    "numbers.index=['small_size','1','2','3','big_size']\n",
    "numbers"
   ]
  },
  {
   "cell_type": "markdown",
   "metadata": {},
   "source": [
    "还可以看一下25个组合平均每年的总市值大小，验证一下分组的正确性："
   ]
  },
  {
   "cell_type": "code",
   "execution_count": null,
   "metadata": {},
   "outputs": [],
   "source": [
    "MarketValue=np.zeros((25,9)) \n",
    "for i in range(25):\n",
    "    for j in range(9):\n",
    "        breakpoint=str((j+2007)*10000+531)\n",
    "        Group25=get_25groups(breakpoint)  #每年进行分组\n",
    "        C=DataAPI.MktEqudGet(ticker='000028',beginDate=str(int(breakpoint)-20),endDate=breakpoint,field=u\"ticker,tradeDate\")\n",
    "        breakpoint=filter(lambda x:x.isdigit(),C.iat[len(C)-1,1])                             #取breakpoint前最近一个交易日日期\n",
    "        data=DataAPI.MktEqudGet(tradeDate=breakpoint,ticker=Group25[i].dropna().tolist(),field=u\"ticker,marketValue\").dropna()\n",
    "        MarketValue[i][j]=data['marketValue'].sum()\n",
    "MarketValue_mean=np.zeros(25)\n",
    "for i in range(25):\n",
    "    MarketValue_mean[i]=MarketValue[i].mean()\n",
    "MV=pd.DataFrame(MarketValue_mean.reshape(5,5))\n",
    "MV.columns=['small_BE/ME','1','2','3','big_BE/ME']\n",
    "MV.index=['small_size','1','2','3','big_size']\n",
    "MV"
   ]
  },
  {
   "cell_type": "markdown",
   "metadata": {},
   "source": [
    "上面的股票组合从左到右，账面市值比越来越大；从上往下，市值越来越大，说明我们的分组是正确的\n",
    "\n",
    "看一下25个组合超额收益的均值和方差："
   ]
  },
  {
   "cell_type": "code",
   "execution_count": null,
   "metadata": {},
   "outputs": [],
   "source": [
    "EReturn_mean=np.zeros(25)\n",
    "for i in range(25):\n",
    "    EReturn_mean[i]=EReturn[i].mean()\n",
    "mean=pd.DataFrame(EReturn_mean.reshape(5,5))\n",
    "mean.columns=['small_BE/ME','1','2','3','big_BE/ME']\n",
    "mean.index=['small_size','1','2','3','big_size']\n",
    "mean"
   ]
  },
  {
   "cell_type": "code",
   "execution_count": null,
   "metadata": {},
   "outputs": [],
   "source": [
    "EReturn_std=np.zeros(25)\n",
    "for i in range(25):\n",
    "    EReturn_std[i]=EReturn[i].std()\n",
    "std=pd.DataFrame(EReturn_std.reshape(5,5))\n",
    "std.columns=['small_BE/ME','1','2','3','big_BE/ME']\n",
    "std.index=['small_size','1','2','3','big_size']\n",
    "std"
   ]
  },
  {
   "cell_type": "markdown",
   "metadata": {},
   "source": [
    "## 2 回归和结果\n",
    "### 2.1 回归一\n",
    "CAPM回归模型：\n",
    "$$\n",
    "R(t)-R_f(t) = a+b(R_M(t)-R_f(t))+e(t)\n",
    "$$\n",
    "这就是经典的CAPM模型，我们可以检验一下它在中国A股市场的有效性："
   ]
  },
  {
   "cell_type": "code",
   "execution_count": null,
   "metadata": {},
   "outputs": [],
   "source": [
    "#作25次回归\n",
    "a1=np.zeros(25)   #a项\n",
    "b1=np.zeros(25)   #市场因子项系数\n",
    "e1=np.zeros((25,108))   #残差项\n",
    "R2_1=np.zeros(25)   #R2相关系数平方\n",
    "tb1=np.zeros(25)\n",
    "ta1=np.zeros(25)\n",
    "\n",
    "ap1=np.zeros(25)  #a显著性检验的P值，下面类同\n",
    "bp1=np.zeros(25)\n",
    "for i in range(25):\n",
    "    X=np.zeros((1,108))\n",
    "    X[0]=MF\n",
    "    X=X.T\n",
    "    X = sm.add_constant(X,has_constant='skip')\n",
    "    y=EReturn[i]\n",
    "    model = sm.OLS(y, X)\n",
    "    results = model.fit()\n",
    "    a1[i] = results.params[0]\n",
    "    b1[i] = results.params[1]\n",
    "    ap1[i]=results.pvalues[0]\n",
    "    bp1[i]=results.pvalues[1]\n",
    "    R2_1[i] = results.rsquared\n",
    "    e1[i] = results.resid\n",
    "    tb1[i] = results.tvalues[1]\n",
    "    ta1[i] = results.tvalues[0]"
   ]
  },
  {
   "cell_type": "markdown",
   "metadata": {},
   "source": [
    "先看一下这25个回归的判定系数$R^2$，它度量了拟合程度的好坏。"
   ]
  },
  {
   "cell_type": "code",
   "execution_count": null,
   "metadata": {},
   "outputs": [],
   "source": [
    "R2inf1=pd.DataFrame(R2_1.reshape(5,5))\n",
    "R2inf1.columns=['small_BE/ME','1','2','3','big_BE/ME']\n",
    "R2inf1.index=['small_size','1','2','3','big_size']\n",
    "R2inf1"
   ]
  },
  {
   "cell_type": "markdown",
   "metadata": {},
   "source": [
    "25个回归的R2大多处于0.7~0.9之间，已经是比较好的结果了，这点可以和其它的回归模型对比。\n",
    "\n",
    "下面看一下市场因子的系数$\\beta$："
   ]
  },
  {
   "cell_type": "code",
   "execution_count": null,
   "metadata": {},
   "outputs": [],
   "source": [
    "binf1=pd.DataFrame(b1.reshape(5,5))\n",
    "binf1.columns=['small_BE/ME','1','2','3','big_BE/ME']\n",
    "binf1.index=['small_size','1','2','3','big_size']\n",
    "binf1"
   ]
  },
  {
   "cell_type": "markdown",
   "metadata": {},
   "source": [
    "我们可以看到$\\beta$大多处于1左右。下面我们来检验其显著性，回归系数的显著性检验用的是t检验：原假设为t=0,若t统计量的值大于给定显著水平下的t分位值，则拒绝原假设，说明该系数显著大于0"
   ]
  },
  {
   "cell_type": "code",
   "execution_count": null,
   "metadata": {},
   "outputs": [],
   "source": [
    "t107=stats.t.isf(0.025,106)  #自由度为n-p，显著水平5%下的t分位值\n",
    "t107"
   ]
  },
  {
   "cell_type": "code",
   "execution_count": null,
   "metadata": {},
   "outputs": [],
   "source": [
    "tbinf1=pd.DataFrame(tb1.reshape(5,5))\n",
    "tbinf1.columns=['small_BE/ME','1','2','3','big_BE/ME']\n",
    "tbinf1.index=['small_size','1','2','3','big_size']\n",
    "tbinf1"
   ]
  },
  {
   "cell_type": "markdown",
   "metadata": {},
   "source": [
    "我们可以看到所有回归里$\\beta$的t统计量的值都大于临界值，我们应该拒绝原假设，即表明$\\beta$系数显著\n",
    "\n",
    "以上，说明资本资产定价模型是有效的，市场因子的影响是显著的"
   ]
  },
  {
   "cell_type": "markdown",
   "metadata": {},
   "source": [
    "### 2.2 回归二\n",
    "如上，我们检验了CAPM模型的有效性，现在我们不妨检验一下另外两个因子对股票超额收益的解释作用。\n",
    "$$\n",
    "R(t)-R_f(t) = a+sSMB(t)+hHML(t)+e(t)\n",
    "$$\n",
    "$SMB$和$HML$分别代表规模(市值)因子和账面市值比因子。"
   ]
  },
  {
   "cell_type": "code",
   "execution_count": null,
   "metadata": {},
   "outputs": [],
   "source": [
    "#作25次回归\n",
    "\n",
    "a2=np.zeros(25)   #a项\n",
    "s2=np.zeros(25)   #规模因子项系数\n",
    "h2=np.zeros(25)   #账面价值比项系数\n",
    "e2=np.zeros((25,108))   #残差项\n",
    "R2_2=np.zeros(25)   #R2相关系数平方\n",
    "ta2=np.zeros(25)\n",
    "tb2=np.zeros(25)\n",
    "\n",
    "ap2=np.zeros(25)  #a显著性检验的P值，下面类同\n",
    "sp2=np.zeros(25)\n",
    "hp2=np.zeros(25)\n",
    "for i in range(25):\n",
    "    X=np.zeros((2,108))\n",
    "    X[0]=SMB\n",
    "    X[1]=HML\n",
    "    X=X.T\n",
    "    X = sm.add_constant(X,has_constant='skip')\n",
    "    y=EReturn[i]\n",
    "    model = sm.OLS(y, X)\n",
    "    results = model.fit()\n",
    "    ap2[i]=results.pvalues[0]\n",
    "    sp2[i]=results.pvalues[1]\n",
    "    hp2[i]=results.pvalues[2]\n",
    "    a2[i] = results.params[0]\n",
    "    s2[i] = results.params[1]\n",
    "    h2[i] = results.params[2]\n",
    "    R2_2[i] = results.rsquared\n",
    "    e2[i] = results.resid\n",
    "    tb2[i] = results.tvalues[1]\n",
    "    ta2[i] = results.tvalues[0]"
   ]
  },
  {
   "cell_type": "markdown",
   "metadata": {},
   "source": [
    "同样，我们看一下25个回归的判定系数R2的情况："
   ]
  },
  {
   "cell_type": "code",
   "execution_count": null,
   "metadata": {},
   "outputs": [],
   "source": [
    "R2inf2=pd.DataFrame(R2_2.reshape(5,5))\n",
    "R2inf2.columns=['small_BE/ME','1','2','3','big_BE/ME']\n",
    "R2inf2.index=['small_size','1','2','3','big_size']\n",
    "R2inf2"
   ]
  },
  {
   "cell_type": "markdown",
   "metadata": {},
   "source": [
    "从R2可以看到，基本都在0.5以下，这个回归的结果比回归一差了很多，这个模型并不好,也就是说只用市值因子和账面市值比因子来解释股票超额收益是不合适的"
   ]
  },
  {
   "cell_type": "markdown",
   "metadata": {},
   "source": [
    "### 2.3 回归三\n",
    "这里的回归模型就是我们经典的三因子模型\n",
    "\n",
    "$$\n",
    "R(t)-R_f(t) = \\alpha+b(R_M(t)-R_f(t))+sSMB(t)+hHML(t)+e(t)\n",
    "$$\n",
    "\n",
    "$R(t)-R_f(t)$：市场因子\n",
    "\n",
    "$SMB(t)$：规模(市值)因子\n",
    "\n",
    "$HML(t)$ ：账面市值比因子"
   ]
  },
  {
   "cell_type": "code",
   "execution_count": null,
   "metadata": {},
   "outputs": [],
   "source": [
    "#作25次回归\n",
    "a=np.zeros(25)   #a项\n",
    "b=np.zeros(25)   #市场因子项系数\n",
    "s=np.zeros(25)   #规模因子项系数\n",
    "h=np.zeros(25)   #账面价值比项系数\n",
    "e=np.zeros(25)   #残差项\n",
    "R2=np.zeros(25)   #R2相关系数平方\n",
    "for i in range(25):\n",
    "    x=np.zeros((3,108))\n",
    "    x[0]=MF\n",
    "    x[1]=SMB\n",
    "    x[2]=HML\n",
    "    y=EReturn[i]\n",
    "    x=np.mat(x).T\n",
    "    y=np.mat(y).T\n",
    "    regr = linear_model.LinearRegression()\n",
    "    regr.fit(x,y)\n",
    "    b[i]=regr.coef_[0][0]\n",
    "    s[i]=regr.coef_[0][1]\n",
    "    h[i]=regr.coef_[0][2]\n",
    "    a[i]=regr.intercept_[0]\n",
    "    e[i]=regr.residues_\n",
    "    R2[i]=regr.score(x,y)"
   ]
  },
  {
   "cell_type": "code",
   "execution_count": null,
   "metadata": {},
   "outputs": [],
   "source": [
    "\n",
    "ap=np.zeros(25)  #a显著性检验的P值\n",
    "ta=np.zeros(25)\n",
    "tb=np.zeros(25)\n",
    "ts=np.zeros(25)\n",
    "th=np.zeros(25)\n",
    "for i in range(25):\n",
    "    X=np.zeros((3,108))\n",
    "    X[0]=MF\n",
    "    X[1]=SMB\n",
    "    X[2]=HML\n",
    "    X=X.T\n",
    "    X = sm.add_constant(X,has_constant='skip')\n",
    "    y=EReturn[i]\n",
    "    model = sm.OLS(y, X)\n",
    "    results = model.fit()\n",
    "    ap[i]=results.pvalues[0]\n",
    "    ta[i] = results.tvalues[0]\n",
    "    tb[i] = results.tvalues[1]\n",
    "    ts[i] = results.tvalues[2]\n",
    "    th[i] = results.tvalues[3]    "
   ]
  },
  {
   "cell_type": "markdown",
   "metadata": {},
   "source": [
    "我们先看一下回归的$R^2$："
   ]
  },
  {
   "cell_type": "code",
   "execution_count": null,
   "metadata": {},
   "outputs": [],
   "source": [
    "R2inf3=pd.DataFrame(R2.reshape(5,5))\n",
    "R2inf3.columns=['small_BE/ME','1','2','3','big_BE/ME']\n",
    "R2inf3.index=['small_size','1','2','3','big_size']\n",
    "R2inf3"
   ]
  },
  {
   "cell_type": "markdown",
   "metadata": {},
   "source": [
    "我们可以看到$R^2$基本上都在0.9以上，三因子模型的拟合程度非常好，说明三因子模型是比CAPM更有效的模型"
   ]
  },
  {
   "cell_type": "markdown",
   "metadata": {},
   "source": [
    "### 2.4 回归结果分析\n",
    "如上三因子模型的有效性已经得到验证，确实能够解释股票收益来源，那么A股市场对这些因子有什么偏好呢？比如：长期来看，小盘股跑赢大盘股，还是大盘股能跑赢小盘股呢？\n",
    "\n",
    "我们可以从第一个回归(CAPM)的截距项找到答案："
   ]
  },
  {
   "cell_type": "code",
   "execution_count": null,
   "metadata": {},
   "outputs": [],
   "source": [
    "ainf1=pd.DataFrame(a1.reshape(5,5))\n",
    "ainf1.columns=['small_BE/ME','1','2','3','big_BE/ME']\n",
    "ainf1.index=['small_size','1','2','3','big_size']\n",
    "tainf1=pd.DataFrame(ta1.reshape(5,5))\n",
    "tainf1.columns=['small_BE/ME','1','2','3','big_BE/ME']\n",
    "tainf1.index=['small_size','1','2','3','big_size']\n",
    "print '第一个回归的a值：'\n",
    "print ainf1.to_html()\n",
    "print '自由度为n-p，显著水平5%下的t分位值:'+str(stats.t.isf(0.025,106))\n",
    "print '第一个回归的a的t检验统计量：'\n",
    "print tainf1.to_html()"
   ]
  },
  {
   "cell_type": "markdown",
   "metadata": {},
   "source": [
    "可以看到25个回归里只有最后5个回归的a值是显著为0的，其余a值我们可以认为是不显著为0的，也就是说超额收益没有被完全解释，这也是三因子模型存在的必要。\n",
    "\n",
    "我们从市值的角度来分析一下，以上结果，从上到下组合的市值越来越大，a值越来越小，a代表的是超额收益，也就是说市值越小的股票越容易获得超额收益，这点和我们的认知相同\n",
    "\n",
    "从左到右，组合的账面市值比越来越大，a值从趋势上是越来越大，但也有很多反转，也就是说账面市值比越高的组合越容易获得超额收益这个结论并不准确。"
   ]
  },
  {
   "cell_type": "markdown",
   "metadata": {},
   "source": [
    "## 3.总结\n",
    "通过对三个模型的回归进行对比，我们可以看到，从$R^2$来看，拟合结果最差的是第二个模型（只用市值因子和账面市值比），拟合结果最好的是第三个模型，也就是fama三因子模型。\n",
    "\n",
    "综上，我们验证了Fama三因子模型在中国A股市场是有效的，也印证了市值小的股票更容易获得超额收益这一点。"
   ]
  },
  {
   "cell_type": "markdown",
   "metadata": {},
   "source": [
    "# 第二部分 课程练习\n",
    "\n",
    "1. 请找到海外市场的部分股票信息，并做相同的分析，看看国内外的市场是否相似\n",
    "2. 为了熟练python的函数，请针对自己的问题，进行python编程以掌握函数的妙处"
   ]
  },
  {
   "cell_type": "markdown",
   "metadata": {},
   "source": [
    "# 第三部分 延伸学习\n",
    "\n",
    "由于容量问题，很多东西是没有办法介绍的，下面给出一些延伸学习的主题，请自行学习。\n",
    "* 时间处理在数据分析中非常重要，请自行了解如何使用time、datetime等不同的package使用方法\n",
    "* 比三因子模型更细致的是五因子模型，请去了解他，并比较两者的不同\n",
    "* Fama也是有效市场假说的提出者，请自主学习这个假说"
   ]
  }
 ],
 "metadata": {
  "kernelspec": {
   "display_name": "Python 3",
   "language": "python",
   "name": "python3"
  },
  "language_info": {
   "codemirror_mode": {
    "name": "ipython",
    "version": 3
   },
   "file_extension": ".py",
   "mimetype": "text/x-python",
   "name": "python",
   "nbconvert_exporter": "python",
   "pygments_lexer": "ipython3",
   "version": "3.7.1"
  }
 },
 "nbformat": 4,
 "nbformat_minor": 2
}
