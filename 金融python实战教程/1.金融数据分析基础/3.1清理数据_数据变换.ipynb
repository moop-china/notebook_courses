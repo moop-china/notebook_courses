{
 "cells": [
  {
   "cell_type": "markdown",
   "metadata": {},
   "source": [
    "# 第一部分 课程内容\n",
    "[数据来源和代码参考](https://www.kaggle.com/rohan8594/finance-data-project)\n",
    "\n",
    "各个银行股票数据，时间从2006年1月1号到2016年1月1号：\n",
    "\n",
    "- 美国银行：Bank of America   \n",
    "- 花旗银行：CitiGroup    \n",
    "- 高盛集团：Goldman Sachs    \n",
    "- 摩根大通：JPMorgan Chase   \n",
    "- 摩根士丹利：Morgan Stanley   \n",
    "- 美国富国银行：Wells Fargo  "
   ]
  },
  {
   "cell_type": "code",
   "execution_count": 21,
   "metadata": {},
   "outputs": [
    {
     "data": {
      "text/html": [
       "<div>\n",
       "<style scoped>\n",
       "    .dataframe tbody tr th:only-of-type {\n",
       "        vertical-align: middle;\n",
       "    }\n",
       "\n",
       "    .dataframe tbody tr th {\n",
       "        vertical-align: top;\n",
       "    }\n",
       "\n",
       "    .dataframe thead tr th {\n",
       "        text-align: left;\n",
       "    }\n",
       "\n",
       "    .dataframe thead tr:last-of-type th {\n",
       "        text-align: right;\n",
       "    }\n",
       "</style>\n",
       "<table border=\"1\" class=\"dataframe\">\n",
       "  <thead>\n",
       "    <tr>\n",
       "      <th>Bank Ticker</th>\n",
       "      <th colspan=\"5\" halign=\"left\">BAC</th>\n",
       "      <th colspan=\"5\" halign=\"left\">C</th>\n",
       "      <th>...</th>\n",
       "      <th colspan=\"5\" halign=\"left\">MS</th>\n",
       "      <th colspan=\"5\" halign=\"left\">WFC</th>\n",
       "    </tr>\n",
       "    <tr>\n",
       "      <th>Stock Info</th>\n",
       "      <th>Open</th>\n",
       "      <th>High</th>\n",
       "      <th>Low</th>\n",
       "      <th>Close</th>\n",
       "      <th>Volume</th>\n",
       "      <th>Open</th>\n",
       "      <th>High</th>\n",
       "      <th>Low</th>\n",
       "      <th>Close</th>\n",
       "      <th>Volume</th>\n",
       "      <th>...</th>\n",
       "      <th>Open</th>\n",
       "      <th>High</th>\n",
       "      <th>Low</th>\n",
       "      <th>Close</th>\n",
       "      <th>Volume</th>\n",
       "      <th>Open</th>\n",
       "      <th>High</th>\n",
       "      <th>Low</th>\n",
       "      <th>Close</th>\n",
       "      <th>Volume</th>\n",
       "    </tr>\n",
       "    <tr>\n",
       "      <th>Date</th>\n",
       "      <th></th>\n",
       "      <th></th>\n",
       "      <th></th>\n",
       "      <th></th>\n",
       "      <th></th>\n",
       "      <th></th>\n",
       "      <th></th>\n",
       "      <th></th>\n",
       "      <th></th>\n",
       "      <th></th>\n",
       "      <th></th>\n",
       "      <th></th>\n",
       "      <th></th>\n",
       "      <th></th>\n",
       "      <th></th>\n",
       "      <th></th>\n",
       "      <th></th>\n",
       "      <th></th>\n",
       "      <th></th>\n",
       "      <th></th>\n",
       "      <th></th>\n",
       "    </tr>\n",
       "  </thead>\n",
       "  <tbody>\n",
       "    <tr>\n",
       "      <th>2006-01-03</th>\n",
       "      <td>46.92</td>\n",
       "      <td>47.18</td>\n",
       "      <td>46.15</td>\n",
       "      <td>47.08</td>\n",
       "      <td>16296700</td>\n",
       "      <td>490.0</td>\n",
       "      <td>493.8</td>\n",
       "      <td>481.1</td>\n",
       "      <td>492.9</td>\n",
       "      <td>1537660</td>\n",
       "      <td>...</td>\n",
       "      <td>57.17</td>\n",
       "      <td>58.49</td>\n",
       "      <td>56.74</td>\n",
       "      <td>58.31</td>\n",
       "      <td>5377000</td>\n",
       "      <td>31.60</td>\n",
       "      <td>31.98</td>\n",
       "      <td>31.20</td>\n",
       "      <td>31.90</td>\n",
       "      <td>11016400</td>\n",
       "    </tr>\n",
       "    <tr>\n",
       "      <th>2006-01-04</th>\n",
       "      <td>47.00</td>\n",
       "      <td>47.24</td>\n",
       "      <td>46.45</td>\n",
       "      <td>46.58</td>\n",
       "      <td>17757900</td>\n",
       "      <td>488.6</td>\n",
       "      <td>491.0</td>\n",
       "      <td>483.5</td>\n",
       "      <td>483.8</td>\n",
       "      <td>1871020</td>\n",
       "      <td>...</td>\n",
       "      <td>58.70</td>\n",
       "      <td>59.28</td>\n",
       "      <td>58.35</td>\n",
       "      <td>58.35</td>\n",
       "      <td>7977800</td>\n",
       "      <td>31.80</td>\n",
       "      <td>31.82</td>\n",
       "      <td>31.36</td>\n",
       "      <td>31.53</td>\n",
       "      <td>10871000</td>\n",
       "    </tr>\n",
       "    <tr>\n",
       "      <th>2006-01-05</th>\n",
       "      <td>46.58</td>\n",
       "      <td>46.83</td>\n",
       "      <td>46.32</td>\n",
       "      <td>46.64</td>\n",
       "      <td>14970900</td>\n",
       "      <td>484.4</td>\n",
       "      <td>487.8</td>\n",
       "      <td>484.0</td>\n",
       "      <td>486.2</td>\n",
       "      <td>1143160</td>\n",
       "      <td>...</td>\n",
       "      <td>58.55</td>\n",
       "      <td>58.59</td>\n",
       "      <td>58.02</td>\n",
       "      <td>58.51</td>\n",
       "      <td>5778000</td>\n",
       "      <td>31.50</td>\n",
       "      <td>31.56</td>\n",
       "      <td>31.31</td>\n",
       "      <td>31.50</td>\n",
       "      <td>10158000</td>\n",
       "    </tr>\n",
       "    <tr>\n",
       "      <th>2006-01-06</th>\n",
       "      <td>46.80</td>\n",
       "      <td>46.91</td>\n",
       "      <td>46.35</td>\n",
       "      <td>46.57</td>\n",
       "      <td>12599800</td>\n",
       "      <td>488.8</td>\n",
       "      <td>489.0</td>\n",
       "      <td>482.0</td>\n",
       "      <td>486.2</td>\n",
       "      <td>1370250</td>\n",
       "      <td>...</td>\n",
       "      <td>58.77</td>\n",
       "      <td>58.85</td>\n",
       "      <td>58.05</td>\n",
       "      <td>58.57</td>\n",
       "      <td>6889800</td>\n",
       "      <td>31.58</td>\n",
       "      <td>31.78</td>\n",
       "      <td>31.38</td>\n",
       "      <td>31.68</td>\n",
       "      <td>8403800</td>\n",
       "    </tr>\n",
       "  </tbody>\n",
       "</table>\n",
       "<p>4 rows × 30 columns</p>\n",
       "</div>"
      ],
      "text/plain": [
       "Bank Ticker    BAC                                     C                       \\\n",
       "Stock Info    Open   High    Low  Close    Volume   Open   High    Low  Close   \n",
       "Date                                                                            \n",
       "2006-01-03   46.92  47.18  46.15  47.08  16296700  490.0  493.8  481.1  492.9   \n",
       "2006-01-04   47.00  47.24  46.45  46.58  17757900  488.6  491.0  483.5  483.8   \n",
       "2006-01-05   46.58  46.83  46.32  46.64  14970900  484.4  487.8  484.0  486.2   \n",
       "2006-01-06   46.80  46.91  46.35  46.57  12599800  488.8  489.0  482.0  486.2   \n",
       "\n",
       "Bank Ticker           ...     MS                                  WFC         \\\n",
       "Stock Info    Volume  ...   Open   High    Low  Close   Volume   Open   High   \n",
       "Date                  ...                                                      \n",
       "2006-01-03   1537660  ...  57.17  58.49  56.74  58.31  5377000  31.60  31.98   \n",
       "2006-01-04   1871020  ...  58.70  59.28  58.35  58.35  7977800  31.80  31.82   \n",
       "2006-01-05   1143160  ...  58.55  58.59  58.02  58.51  5778000  31.50  31.56   \n",
       "2006-01-06   1370250  ...  58.77  58.85  58.05  58.57  6889800  31.58  31.78   \n",
       "\n",
       "Bank Ticker                          \n",
       "Stock Info     Low  Close    Volume  \n",
       "Date                                 \n",
       "2006-01-03   31.20  31.90  11016400  \n",
       "2006-01-04   31.36  31.53  10871000  \n",
       "2006-01-05   31.31  31.50  10158000  \n",
       "2006-01-06   31.38  31.68   8403800  \n",
       "\n",
       "[4 rows x 30 columns]"
      ]
     },
     "execution_count": 21,
     "metadata": {},
     "output_type": "execute_result"
    }
   ],
   "source": [
    "import pandas as pd\n",
    "import numpy as np\n",
    "import datetime\n",
    "%matplotlib inline\n",
    "bank_stocks = pd.read_pickle('../data/all_banks')\n",
    "tickers = ['BAC', 'C', 'GS', 'JPM', 'MS', 'WFC']  #将表头放入列表\n",
    "bank_stocks.head(4)"
   ]
  },
  {
   "cell_type": "markdown",
   "metadata": {},
   "source": [
    "### 1. 查看index\n",
    "\n",
    "csv文件，日期是以字符串保存，当读取成为dataframe后，里面的时间将转变类型datetime，务必保证这一步正常进行，如果类型没有转换成功，需要用pd.to_datetime来使之转换。"
   ]
  },
  {
   "cell_type": "code",
   "execution_count": 28,
   "metadata": {},
   "outputs": [
    {
     "name": "stdout",
     "output_type": "stream",
     "text": [
      "DatetimeIndex(['2006-01-03', '2006-01-04', '2006-01-05', '2006-01-06',\n",
      "               '2006-01-09', '2006-01-10', '2006-01-11', '2006-01-12',\n",
      "               '2006-01-13', '2006-01-17',\n",
      "               ...\n",
      "               '2015-12-17', '2015-12-18', '2015-12-21', '2015-12-22',\n",
      "               '2015-12-23', '2015-12-24', '2015-12-28', '2015-12-29',\n",
      "               '2015-12-30', '2015-12-31'],\n",
      "              dtype='datetime64[ns]', name='Date', length=2517, freq=None)\n"
     ]
    },
    {
     "data": {
      "text/plain": [
       "pandas.core.indexes.datetimes.DatetimeIndex"
      ]
     },
     "execution_count": 28,
     "metadata": {},
     "output_type": "execute_result"
    }
   ],
   "source": [
    "# bank_stocks.index = pd.to_datetime(bank_stocks.index)\n",
    "print(bank_stocks.index)\n",
    "type(bank_stocks.index)"
   ]
  },
  {
   "cell_type": "markdown",
   "metadata": {},
   "source": [
    "### 2.  批量生成收益率"
   ]
  },
  {
   "cell_type": "markdown",
   "metadata": {},
   "source": [
    "收益率：Pt当日收盘价,Pt-1前一日收盘价\n",
    "\n",
    "$$r_t = \\frac{p_t - p_{t-1}}{p_{t-1}} = \\frac{p_t}{p_{t-1}} - 1$$\n",
    "\n",
    "注：第一天收益率无法计算，为空"
   ]
  },
  {
   "cell_type": "code",
   "execution_count": 29,
   "metadata": {},
   "outputs": [
    {
     "data": {
      "text/html": [
       "<div>\n",
       "<style scoped>\n",
       "    .dataframe tbody tr th:only-of-type {\n",
       "        vertical-align: middle;\n",
       "    }\n",
       "\n",
       "    .dataframe tbody tr th {\n",
       "        vertical-align: top;\n",
       "    }\n",
       "\n",
       "    .dataframe thead th {\n",
       "        text-align: right;\n",
       "    }\n",
       "</style>\n",
       "<table border=\"1\" class=\"dataframe\">\n",
       "  <thead>\n",
       "    <tr style=\"text-align: right;\">\n",
       "      <th></th>\n",
       "      <th>BAC Return</th>\n",
       "      <th>C Return</th>\n",
       "    </tr>\n",
       "    <tr>\n",
       "      <th>Date</th>\n",
       "      <th></th>\n",
       "      <th></th>\n",
       "    </tr>\n",
       "  </thead>\n",
       "  <tbody>\n",
       "    <tr>\n",
       "      <th>2006-01-03</th>\n",
       "      <td>NaN</td>\n",
       "      <td>NaN</td>\n",
       "    </tr>\n",
       "    <tr>\n",
       "      <th>2006-01-04</th>\n",
       "      <td>-0.010620</td>\n",
       "      <td>-0.018462</td>\n",
       "    </tr>\n",
       "    <tr>\n",
       "      <th>2006-01-05</th>\n",
       "      <td>0.001288</td>\n",
       "      <td>0.004961</td>\n",
       "    </tr>\n",
       "    <tr>\n",
       "      <th>2006-01-06</th>\n",
       "      <td>-0.001501</td>\n",
       "      <td>0.000000</td>\n",
       "    </tr>\n",
       "    <tr>\n",
       "      <th>2006-01-09</th>\n",
       "      <td>0.000644</td>\n",
       "      <td>-0.004731</td>\n",
       "    </tr>\n",
       "  </tbody>\n",
       "</table>\n",
       "</div>"
      ],
      "text/plain": [
       "            BAC Return  C Return\n",
       "Date                            \n",
       "2006-01-03         NaN       NaN\n",
       "2006-01-04   -0.010620 -0.018462\n",
       "2006-01-05    0.001288  0.004961\n",
       "2006-01-06   -0.001501  0.000000\n",
       "2006-01-09    0.000644 -0.004731"
      ]
     },
     "execution_count": 29,
     "metadata": {},
     "output_type": "execute_result"
    }
   ],
   "source": [
    "returns = pd.DataFrame()\n",
    "for x in tickers:\n",
    "    returns[x + ' Return'] = bank_stocks.xs('Close',axis=1,level=1)[x].pct_change()\n",
    "returns.head()"
   ]
  },
  {
   "cell_type": "markdown",
   "metadata": {},
   "source": [
    "## 3. 移动平均数\n",
    "\n",
    "有时候我们关心的不是某天的数据，而是某一时间段的数据，比如近三十天的平均值，这时候可以用到pandas的窗口函数rolling，他可以截取一个时间窗进行操作，并将这个操作应用到整个dataframe。\n",
    "\n",
    "下面对Bank of America的收盘数据进行变换，用每三十天的平均数据生成一个新的数据来绘图。"
   ]
  },
  {
   "cell_type": "code",
   "execution_count": 33,
   "metadata": {},
   "outputs": [
    {
     "data": {
      "text/plain": [
       "<matplotlib.legend.Legend at 0x7fcd38391e10>"
      ]
     },
     "execution_count": 33,
     "metadata": {},
     "output_type": "execute_result"
    },
    {
     "data": {
      "image/png": "[encoded data removed]",
      "text/plain": [
       "<Figure size 864x432 with 1 Axes>"
      ]
     },
     "metadata": {
      "needs_background": "light"
     },
     "output_type": "display_data"
    }
   ],
   "source": [
    "import matplotlib.pyplot as plt\n",
    "import seaborn as sns\n",
    "sns.set_style('whitegrid')\n",
    "%matplotlib inline\n",
    "# Optional Plotly Method Imports\n",
    "from plotly import __version__\n",
    "\n",
    "# 原始图像\n",
    "origin=bank_stocks.loc['2008-01-01':'2008-12-31'].xs('Close',axis=1,level=1)['BAC']\n",
    "origin.plot(figsize=(12,6),label='Bank of America Close')\n",
    "# 近30天平均值\n",
    "rolling_avg = pd.DataFrame()\n",
    "rolling_avg['30 Day Avg'] = origin.rolling(window=30).mean()\n",
    "rolling_avg['30 Day Avg'].plot(figsize=(12,6),label='30 Day Avg')\n",
    "plt.legend()"
   ]
  },
  {
   "cell_type": "markdown",
   "metadata": {},
   "source": [
    "# 第二部分 课程练习\n",
    "任选一只股票，计算k线图：5天平均收益率，10天平均收益率，20天平均收益率"
   ]
  },
  {
   "cell_type": "code",
   "execution_count": null,
   "metadata": {},
   "outputs": [],
   "source": []
  }
 ],
 "metadata": {
  "kernelspec": {
   "display_name": "Python 3",
   "language": "python",
   "name": "python3"
  },
  "language_info": {
   "codemirror_mode": {
    "name": "ipython",
    "version": 3
   },
   "file_extension": ".py",
   "mimetype": "text/x-python",
   "name": "python",
   "nbconvert_exporter": "python",
   "pygments_lexer": "ipython3",
   "version": "3.7.1"
  }
 },
 "nbformat": 4,
 "nbformat_minor": 2
}
