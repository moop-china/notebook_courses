{
 "cells": [
  {
   "cell_type": "markdown",
   "metadata": {},
   "source": [
    "# 1. python 包"
   ]
  },
  {
   "cell_type": "markdown",
   "metadata": {},
   "source": [
    "表格\n",
    "- os :文件系统包   [中文资料](http://www.runoob.com/python/os-file-methods.html)\n",
    "- pandas : XXX包   [中文资料](http://codingpy.com/article/a-quick-intro-to-pandas/)\n",
    "- xlrd:excel处理包  [中文资料](https://www.cnblogs.com/insane-Mr-Li/p/9092619.html)\n",
    "- tushare:财经数据接口包 [中文资料](http://www.361way.com/python-stock-tushare/4579.html)\n",
    "\n",
    "- pandas_datareader:金融数据的接口包,\n",
    "- numpy :\n",
    "- matplotlib\n",
    "- seaborn\n",
    "- statsmodels\n",
    "- subprocess\n",
    "- scipy\n"
   ]
  },
  {
   "cell_type": "markdown",
   "metadata": {},
   "source": [
    "# 2.R包"
   ]
  },
  {
   "cell_type": "code",
   "execution_count": null,
   "metadata": {},
   "outputs": [],
   "source": []
  }
 ],
 "metadata": {
  "kernelspec": {
   "display_name": "Python 3",
   "language": "python",
   "name": "python3"
  },
  "language_info": {
   "codemirror_mode": {
    "name": "ipython",
    "version": 3
   },
   "file_extension": ".py",
   "mimetype": "text/x-python",
   "name": "python",
   "nbconvert_exporter": "python",
   "pygments_lexer": "ipython3",
   "version": "3.7.1"
  }
 },
 "nbformat": 4,
 "nbformat_minor": 2
}
