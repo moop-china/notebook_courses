{
 "cells": [
  {
   "cell_type": "markdown",
   "metadata": {},
   "source": [
    "<center><img src='../金融教程_python/pictures/jupyter图标.png' /></center>"
   ]
  },
  {
   "cell_type": "markdown",
   "metadata": {},
   "source": [
    "## 1.简介"
   ]
  },
  {
   "cell_type": "markdown",
   "metadata": {},
   "source": [
    "Jupyter基于开放标准，在Web前端使用HTML和CSS的交互式计算，在后端采用可扩展的kernel架构，内部使用WebSocket和ZeroMQ进行通信交互。核心是通过IPython实现，由IPython提供终端，IPython内核提供的计算和通信的前端界面。\n",
    "\n",
    "- Notebook Document Format：基于JSON的开放文档格式，记录用户的会话(sessions)和代码、说明性的文本、方程以及富文本输出。\n",
    "- Interactive Computing Protocol：该协议用于连接Notebook和内核，基于JSON数据、ZMQ以及WebSockets。\n",
    "- Kernel：Jupyter的内核指的是后台计算的语言环境，是实际执行Notebook代码的地方，将输出返回给用户。\n"
   ]
  },
  {
   "cell_type": "markdown",
   "metadata": {},
   "source": [
    "<img src='../金融教程_python/pictures/2' />\n",
    "\n",
    ">Jupyter Notebook是基于网页的用于交互计算的应用程序。其可被应用于全过程计算：开发、文档编写、运行代码和展示结果。——Jupyter Notebook官方介绍\n",
    "\n",
    "简而言之，Jupyter Notebook是以网页的形式打开，可以在网页页面中直接编写代码和运行代码，代码的运行结果也会直接在代码块下显示的程序。在写程序的时候往往会有一些思路，解释，分析，运行结果等等，需要记下来，比较长的就不太适合在程序里面注释，记在其它地方又容易忘掉。Notebook完美地解决了这个问题。当然它还有很多其它优点，下面简单介绍一下。\n"
   ]
  },
  {
   "cell_type": "markdown",
   "metadata": {},
   "source": [
    "## 2.jupyter平台特点"
   ]
  },
  {
   "cell_type": "markdown",
   "metadata": {},
   "source": [
    "- Jupyter支持超过40中编程语言包括Python，R，Julia和Scala。\n",
    "\n",
    "- Notebook可以通过github，DropBox和Jupyter Notebook Viewer进行非常方便的分享。\n",
    "\n",
    "- 可以生成丰富的交互式输出：HTML，图像，视频，Latex和其它自定义类型。\n",
    "\n",
    "- 利用Python、R，和Scala等工具，与Spark、pandas、scikit-learn、ggplot2、TensorFlow等集成。\n",
    "\n",
    "- Notebook可直接通过浏览器运行代码，同时在代码块下方展示运行结果。\n",
    "\n",
    "- Notebook对代码编写说明文档或语句时，支持Markdown语法。\n",
    "\n",
    "- notebook支持使用LaTeX编写数学性说明。\n",
    "\n",
    "- notebook中也可运行shell命令。\n",
    "\n",
    "- 可运行terminal和console窗口。\n",
    "\n",
    "- 文档管理方便"
   ]
  },
  {
   "cell_type": "markdown",
   "metadata": {},
   "source": [
    "<center><img src='../金融教程_python/pictures/1.jpg' /></center>"
   ]
  },
  {
   "cell_type": "markdown",
   "metadata": {},
   "source": [
    "## 3.安装包"
   ]
  },
  {
   "cell_type": "markdown",
   "metadata": {},
   "source": [
    "jupyter镜像中已安装了常用包，个人运行过程中，如果遇到缺包，可自行安装："
   ]
  },
  {
   "cell_type": "markdown",
   "metadata": {},
   "source": [
    " <table width= 100% border=1  >\n",
    "        <tr  >\n",
    "            <th bgcolor=#00CED1><font size=\"3\">内核  </font>  </th>\n",
    "            <th bgcolor=#00CED1><font size=\"3\"><b>python</b></font> <br>（当在notebook中安装不成功时，尝试terminal里安装。）    </th>\n",
    "            <th bgcolor=#00CED1><font size=\"3\"><b>python</b></font> <br>（只能在notebook中安装）    </th>\n",
    "        </tr>\n",
    "        <tr >\n",
    "            <td height = 150 ><center><font size=\"2\">代码</font></center></td>\n",
    "            <td ><font size=\"2\">！pip  install  xxx<br>\n",
    "或<br>\n",
    "!pip install --install-option=\"--prefix=$PREFIX_PATH\" package_name \n",
    "PYTHONPATH=$PREFIX_PATH/lib/python2.6/site-packages<br></font></td>       \n",
    "            <td height = 150  ><font size = \"2\">install.packages(\"xxx\")</font></td>      \n",
    "        </tr>  \n",
    "  </table>"
   ]
  },
  {
   "cell_type": "markdown",
   "metadata": {},
   "source": []
  },
  {
   "cell_type": "code",
   "execution_count": null,
   "metadata": {},
   "outputs": [],
   "source": []
  }
 ],
 "metadata": {
  "kernelspec": {
   "display_name": "Python 3",
   "language": "python",
   "name": "python3"
  },
  "language_info": {
   "codemirror_mode": {
    "name": "ipython",
    "version": 3
   },
   "file_extension": ".py",
   "mimetype": "text/x-python",
   "name": "python",
   "nbconvert_exporter": "python",
   "pygments_lexer": "ipython3",
   "version": "3.7.1"
  }
 },
 "nbformat": 4,
 "nbformat_minor": 2
}
