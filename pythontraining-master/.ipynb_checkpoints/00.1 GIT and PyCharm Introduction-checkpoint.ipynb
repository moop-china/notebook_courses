{
 "cells": [
  {
   "cell_type": "markdown",
   "metadata": {},
   "source": [
    "# 我用GIT学Python"
   ]
  },
  {
   "cell_type": "markdown",
   "metadata": {},
   "source": [
    "## 安装"
   ]
  },
  {
   "cell_type": "markdown",
   "metadata": {},
   "source": [
    "Git 是一个开源的分布式版本控制软件,用以有效、高速的处理从很小到非常大的项目版本管理。 Git 最初是由Linus Torvalds设计开发的，用于管理Linux内核开发。Git 是根据GNU通用公共许可证版本2的条款分发的自由/免费软件，安装参见：http://git-scm.com/\n",
    "\n",
    "GitHub是一个基于Git的远程文件托管平台（同GitCafe、BitBucket和GitLab等）。\n",
    "\n",
    "Git本身完全可以做到版本控制，但其所有内容以及版本记录只能保存在本机，如果想要将文件内容以及版本记录同时保存在远程，则需要结合GitHub来使用。使用场景：\n",
    "\n",
    "- 无GitHub：在本地 .git 文件夹内维护历时文件\n",
    "- 有GitHub：在本地 .git 文件夹内维护历时文件，同时也将历时文件托管在远程仓库"
   ]
  },
  {
   "cell_type": "markdown",
   "metadata": {},
   "source": [
    "[GIT下载地址](https://git-scm.com/downloads)"
   ]
  },
  {
   "cell_type": "markdown",
   "metadata": {},
   "source": [
    "<img src='./image/gitdownload.png' />"
   ]
  },
  {
   "cell_type": "markdown",
   "metadata": {},
   "source": [
    "如果在Mac OS，安装了brew的话，也可以直接使用```brew install git```直接安装git"
   ]
  },
  {
   "cell_type": "markdown",
   "metadata": {},
   "source": [
    "## 使用"
   ]
  },
  {
   "cell_type": "markdown",
   "metadata": {},
   "source": [
    "安装完Git之后，可以在控制台程序（Windows是cmd命令，Linux就是bash了），建议Windows平台可以安装<b>ConEmu</b>：可以多页签，矢量化文字，支持多种类型Shell，非常棒。"
   ]
  },
  {
   "cell_type": "markdown",
   "metadata": {},
   "source": [
    "<img src='./image/conemu.png' />"
   ]
  },
  {
   "cell_type": "markdown",
   "metadata": {},
   "source": [
    "Mac OS平台，建议使用iTerm2作为终端操作平台，同样是支持多页签，以及矢量化文字"
   ]
  },
  {
   "cell_type": "markdown",
   "metadata": {},
   "source": [
    "借用其他大神的文章：[MAC终端神器iterm2——告别黑白](https://www.cnblogs.com/soyxiaobi/p/9695931.html)"
   ]
  },
  {
   "cell_type": "markdown",
   "metadata": {},
   "source": [
    "特别详细的Git方法，大家谷歌一下就可以，这里就简单说一下如何clone别人的项目代码，以及如何更新代码。"
   ]
  },
  {
   "cell_type": "markdown",
   "metadata": {},
   "source": [
    "Git安装完毕之后，在控制台录入：\n",
    "```\n",
    "git --version\n",
    "```\n",
    "\n",
    "如果显示版本号，则说明安装成功"
   ]
  },
  {
   "cell_type": "markdown",
   "metadata": {},
   "source": [
    "<img src='./image/github8.png' />"
   ]
  },
  {
   "cell_type": "markdown",
   "metadata": {},
   "source": [
    "### 获取GitHub项目代码"
   ]
  },
  {
   "cell_type": "markdown",
   "metadata": {},
   "source": [
    "gitHub是一个面向开源及私有软件项目的托管平台，因为只支持git 作为唯一的版本库格式进行托管，故名gitHub。\n",
    "\n",
    "gitHub于2008年4月10日正式上线，除了git代码仓库托管及基本的 Web管理界面以外，还提供了订阅、讨论组、文本渲染、在线文件编辑器、协作图谱（报表）、代码片段分享（Gist）等功能。\n",
    "\n",
    "目前，其注册用户已经超过350万，托管版本数量也是非常之多，其中不乏知名开源项目 Ruby on Rails、jQuery、python 等。\n",
    "\n",
    "2018年6月4日，微软宣布，通过75亿美元的股票交易收购代码托管平台GitHub。"
   ]
  },
  {
   "cell_type": "markdown",
   "metadata": {},
   "source": [
    "<img src='./image/github.jpg' />"
   ]
  },
  {
   "cell_type": "markdown",
   "metadata": {},
   "source": [
    "- 首先进入GitHub\n",
    "- 点击左上角logo图标，并在搜索栏搜索感兴趣的项目，如：Flair（基于pytorch，支持迁移学习的自然语言项目）"
   ]
  },
  {
   "cell_type": "markdown",
   "metadata": {},
   "source": [
    "<img src='./image/github2.png' />"
   ]
  },
  {
   "cell_type": "markdown",
   "metadata": {},
   "source": [
    "点击项目链接，进入项目页面："
   ]
  },
  {
   "cell_type": "markdown",
   "metadata": {},
   "source": [
    "<img src='./image/github3.png' />"
   ]
  },
  {
   "cell_type": "markdown",
   "metadata": {},
   "source": [
    "如果想clone该项目，点击右侧绿色按钮，并点击复制按钮，即得到clone所需的URL，本篇课件的github的克隆地址为：https://github.com/heblade/pythontraining.git ,欢迎下载哈~~~"
   ]
  },
  {
   "cell_type": "markdown",
   "metadata": {},
   "source": [
    "通过控制台工具，进入需要clone该项目代码的文件夹：<b>需要注意的是：如果不指定文件夹，clone代码会自动建立与Clone项目相同的文件夹，否则，需要用如下方式clone，以建立一个不同于项目名称的文件夹: </b>\n",
    "    \n",
    " ```git clone cloneaddress.git mycodefolder```"
   ]
  },
  {
   "cell_type": "markdown",
   "metadata": {},
   "source": [
    "<img src='./image/github4.png' />"
   ]
  },
  {
   "cell_type": "markdown",
   "metadata": {},
   "source": [
    "回车之后，即可完成代码项目的下载："
   ]
  },
  {
   "cell_type": "markdown",
   "metadata": {},
   "source": [
    "<img src='./image/github5.png' />"
   ]
  },
  {
   "cell_type": "markdown",
   "metadata": {},
   "source": [
    "之后即可进入clone所得的文件夹，查看相关的代码了："
   ]
  },
  {
   "cell_type": "markdown",
   "metadata": {},
   "source": [
    "<img src='./image/github6.png' />"
   ]
  },
  {
   "cell_type": "markdown",
   "metadata": {},
   "source": [
    "### 更新GitHub项目代码"
   ]
  },
  {
   "cell_type": "markdown",
   "metadata": {},
   "source": [
    "很多GitHub的项目，代码更新比较频繁，那么使用git pull指令，即可完成代码更新。\n",
    "\n",
    "进入需要更新代码项目的目录，然后pull一把即可，如果有更新，则会下载更新代码，否则会显示\n",
    "\n",
    "```\n",
    "Already up to date.\n",
    "```"
   ]
  },
  {
   "cell_type": "markdown",
   "metadata": {},
   "source": [
    "<img src='./image/github7.png' />"
   ]
  },
  {
   "cell_type": "markdown",
   "metadata": {},
   "source": [
    "简单吧？学会使用git之后，即可将github里面感兴趣的项目，往家搬了。\n",
    "\n",
    "比如我感兴趣的python或机器学习项目："
   ]
  },
  {
   "cell_type": "markdown",
   "metadata": {},
   "source": [
    "<img src='./image/github10.png' />"
   ]
  },
  {
   "cell_type": "markdown",
   "metadata": {},
   "source": [
    "对了，代码项目：adult4ml，是根据一群成年人的信息，对人群收入做回归预测应用的，ml现在已经是Machine Learning缩写的标配了，千万不能想歪了。你看，有图有真相。。。"
   ]
  },
  {
   "cell_type": "markdown",
   "metadata": {},
   "source": [
    "<img src='./image/github11.png' />"
   ]
  },
  {
   "cell_type": "markdown",
   "metadata": {},
   "source": [
    "# IDE,我用PyCharm"
   ]
  },
  {
   "cell_type": "markdown",
   "metadata": {},
   "source": [
    "学习Python的路上，有很多伴随我们的IDE，比如notepad++, sublime text, VS Code，Spyder等等，也许出于习惯吧，我最习惯使用的IDE是PyCharm"
   ]
  },
  {
   "cell_type": "markdown",
   "metadata": {},
   "source": [
    "## 安装"
   ]
  },
  {
   "cell_type": "markdown",
   "metadata": {},
   "source": [
    "[下载地址](https://www.jetbrains.com/pycharm/download)"
   ]
  },
  {
   "cell_type": "markdown",
   "metadata": {},
   "source": [
    "首先选择要安装的操作系统，然后选择Community版本，为什么用Community版本？因为够用了，而且不违法。"
   ]
  },
  {
   "cell_type": "markdown",
   "metadata": {},
   "source": [
    "<img src='./image/pycharm1.png' />"
   ]
  },
  {
   "cell_type": "markdown",
   "metadata": {},
   "source": [
    "安装很简单，一路next即可，相信大家不会遇到什么问题。"
   ]
  },
  {
   "cell_type": "markdown",
   "metadata": {},
   "source": [
    "## 设置"
   ]
  },
  {
   "cell_type": "markdown",
   "metadata": {},
   "source": [
    "安装完毕之后，打开PyCharm，即可进行设置。"
   ]
  },
  {
   "cell_type": "markdown",
   "metadata": {},
   "source": [
    "### 新项目Python环境设置"
   ]
  },
  {
   "cell_type": "markdown",
   "metadata": {},
   "source": [
    "<img src='./image/pycharm2.png' />"
   ]
  },
  {
   "cell_type": "markdown",
   "metadata": {},
   "source": [
    "如图，有两个选项，第一个是使用Virtualenv，即虚拟环境，如果是创建相对规模较大的项目，是建议选择这个的。\n",
    "\n",
    "为什么呢？因为其python环境与其他使用公共python组件包的环境，是隔离的，这就省却了很多因为更新组件，导致项目中某些包出现异常的风险。\n",
    "\n",
    "但是，<font color='red'>如果大部分时间都是建立一些小项目玩一下，希望共享全局组件包</font>，那么：<b>应该选择Existing interpreter</b>，并选择当前系统的python版本，我选择的是Python 3.6."
   ]
  },
  {
   "cell_type": "markdown",
   "metadata": {},
   "source": [
    "### 其他设置"
   ]
  },
  {
   "cell_type": "markdown",
   "metadata": {},
   "source": [
    "PyCharm有一点令人崩溃，就是文字非矢量化，无法通过Ctrl+滚轮放大缩小文字，如果长期盯着代码，文字字体稍微大一些还是有好处的。"
   ]
  },
  {
   "cell_type": "markdown",
   "metadata": {},
   "source": [
    "通过File -> Settings进入设置界面"
   ]
  },
  {
   "cell_type": "markdown",
   "metadata": {},
   "source": [
    "<img src='./image/pycharm3.png' />"
   ]
  },
  {
   "cell_type": "markdown",
   "metadata": {},
   "source": [
    "设置界面如下，大致有如下9项："
   ]
  },
  {
   "cell_type": "markdown",
   "metadata": {},
   "source": [
    "<img src='./image/pycharm4.png' />"
   ]
  },
  {
   "cell_type": "markdown",
   "metadata": {},
   "source": [
    "#### 主题变更"
   ]
  },
  {
   "cell_type": "markdown",
   "metadata": {},
   "source": [
    "PyCharm内置两个主题：暗夜黑的Darcula，以及珍珠白的IntelliJ，我一般喜欢用黑色背景。\n",
    "\n",
    "使用黑色背景，有利于提高工作持续时间长度不是没有原因的，因为对天黑不敏感，搬砖的时候不知不觉天就黑了"
   ]
  },
  {
   "cell_type": "markdown",
   "metadata": {},
   "source": [
    "<img src='./image/pycharm5.png' />"
   ]
  },
  {
   "cell_type": "markdown",
   "metadata": {},
   "source": [
    "#### 代码字体大小变更"
   ]
  },
  {
   "cell_type": "markdown",
   "metadata": {},
   "source": [
    "如果需要review代码，在演示前，将字体大小设置为18以上，是必须的步骤，自己写代码最好也设置到16左右~~~"
   ]
  },
  {
   "cell_type": "markdown",
   "metadata": {},
   "source": [
    "<img src='./image/pycharm6.png' />"
   ]
  },
  {
   "cell_type": "markdown",
   "metadata": {},
   "source": [
    "#### 代码颜色主题变更"
   ]
  },
  {
   "cell_type": "markdown",
   "metadata": {},
   "source": [
    "不得不说，喜欢黑色背景，因为~白天不懂夜的黑"
   ]
  },
  {
   "cell_type": "markdown",
   "metadata": {},
   "source": [
    "<img src='./image/pycharm7.png' />"
   ]
  },
  {
   "cell_type": "markdown",
   "metadata": {},
   "source": [
    "#### 定义Python代码模板"
   ]
  },
  {
   "cell_type": "markdown",
   "metadata": {},
   "source": [
    "如果没有设置代码模板，每次新建python代码文件，都是光秃秃的，但是设置代码模板之后，逼格无形中就高了一丢丢"
   ]
  },
  {
   "cell_type": "markdown",
   "metadata": {},
   "source": [
    "Editor -> File and Code Templates -> Python Script"
   ]
  },
  {
   "cell_type": "markdown",
   "metadata": {},
   "source": [
    "<img src='./image/pycharm10.png' />"
   ]
  },
  {
   "cell_type": "markdown",
   "metadata": {},
   "source": [
    "我的简易模板如下："
   ]
  },
  {
   "cell_type": "code",
   "execution_count": 4,
   "metadata": {},
   "outputs": [],
   "source": [
    "\"\"\"\n",
    "@version: 0.1\n",
    "@author: Blade He\n",
    "@license: Morningstar \n",
    "@contact: blade.he@morningstar.com\n",
    "@site: \n",
    "@software: PyCharm\n",
    "@file: ${NAME}.py\n",
    "@time: ${YEAR}/${MONTH}/${DAY}\n",
    "\"\"\"\n",
    "def startjob():\n",
    "    pass\n",
    " \n",
    "if __name__ == '__main__':\n",
    "    startjob()"
   ]
  },
  {
   "cell_type": "markdown",
   "metadata": {},
   "source": [
    "新建文件后的初始代码截图："
   ]
  },
  {
   "cell_type": "markdown",
   "metadata": {},
   "source": [
    "<img src='./image/pycharm11.png' />"
   ]
  },
  {
   "cell_type": "markdown",
   "metadata": {},
   "source": [
    "#### 项目编译器变更"
   ]
  },
  {
   "cell_type": "markdown",
   "metadata": {},
   "source": [
    "在Project -> Project Interpreter菜单"
   ]
  },
  {
   "cell_type": "markdown",
   "metadata": {},
   "source": [
    "选择python版本之后，还能浏览相关的组件包，组件包版本，甚至还有推荐升级版本"
   ]
  },
  {
   "cell_type": "markdown",
   "metadata": {},
   "source": [
    "<img src='./image/pycharm9.png' />"
   ]
  },
  {
   "cell_type": "markdown",
   "metadata": {},
   "source": [
    "## 运行与调试"
   ]
  },
  {
   "cell_type": "markdown",
   "metadata": {},
   "source": [
    "PyCharm的运行与调试功能，位于Run菜单："
   ]
  },
  {
   "cell_type": "markdown",
   "metadata": {},
   "source": [
    "<img src='./image/pycharm12.png' />"
   ]
  },
  {
   "cell_type": "markdown",
   "metadata": {},
   "source": [
    "按照上述设置配置好Python环境之后，即可运行代码了。"
   ]
  },
  {
   "cell_type": "markdown",
   "metadata": {},
   "source": [
    ">有几点要声明\n",
    "- Python顶格写的代码都是可以直接执行的,即所有模块其实都是可以直接执行的\n",
    "- 所以建议将代码逻辑放到函数中，便于管理代码\n",
    "- 对于需要初始化一次加载，多次复用的对象，比如机器学习模型对象，可以顶格声明并实例化，这样达到优化性能的目的\n",
    "- 与其他开发语言类似，Python也有main的概念，在需要做测试的模块中加入类似代码，就起到执行main函数的功效：\n",
    ">```\n",
    "def startjob():\n",
    "    pass\n",
    "if __name__ == \"__main__\":\n",
    "    startjob()\n",
    "```"
   ]
  },
  {
   "cell_type": "markdown",
   "metadata": {},
   "source": [
    "### 默认快捷键"
   ]
  },
  {
   "cell_type": "markdown",
   "metadata": {},
   "source": [
    "- 运行当前代码文件:```shift + F10```\n",
    "- 调试当前代码文件:```shift + F9```\n",
    "- 选择运行已打开代码文件:```alt + shift + F10```\n",
    "- 选择调试已打开代码文件:```alt + shift + F9```"
   ]
  },
  {
   "cell_type": "markdown",
   "metadata": {},
   "source": [
    "### 调试演示"
   ]
  },
  {
   "cell_type": "markdown",
   "metadata": {},
   "source": [
    "快捷键：\n",
    "- F7，单步执行，会进入所有涉及的代码；\n",
    "- F8，只逐行执行当前页面代码；\n",
    "- F9，跳到下一个断点，如果没有下一个断点，则执行直到代码结束"
   ]
  },
  {
   "cell_type": "markdown",
   "metadata": {},
   "source": [
    "<img src='./image/debugani.gif' />"
   ]
  },
  {
   "cell_type": "markdown",
   "metadata": {},
   "source": [
    "## 快速定位代码"
   ]
  },
  {
   "cell_type": "markdown",
   "metadata": {},
   "source": [
    "将鼠标定位到需要定位的方法或变量等对象，然后```alt + F7```，即可定位到定义部分以及使用部分，非常方便"
   ]
  },
  {
   "cell_type": "markdown",
   "metadata": {},
   "source": [
    "<img src='./image/pycharm13.png' />"
   ]
  },
  {
   "cell_type": "code",
   "execution_count": null,
   "metadata": {},
   "outputs": [],
   "source": []
  }
 ],
 "metadata": {
  "kernelspec": {
   "display_name": "Python 3",
   "language": "python",
   "name": "python3"
  },
  "language_info": {
   "codemirror_mode": {
    "name": "ipython",
    "version": 3
   },
   "file_extension": ".py",
   "mimetype": "text/x-python",
   "name": "python",
   "nbconvert_exporter": "python",
   "pygments_lexer": "ipython3",
   "version": "3.6.2"
  },
  "toc": {
   "base_numbering": 1,
   "nav_menu": {},
   "number_sections": true,
   "sideBar": true,
   "skip_h1_title": false,
   "title_cell": "Table of Contents",
   "title_sidebar": "Contents",
   "toc_cell": false,
   "toc_position": {
    "height": "calc(100% - 180px)",
    "left": "10px",
    "top": "150px",
    "width": "282.438px"
   },
   "toc_section_display": true,
   "toc_window_display": false
  }
 },
 "nbformat": 4,
 "nbformat_minor": 2
}
