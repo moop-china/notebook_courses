{
 "cells": [
  {
   "cell_type": "markdown",
   "metadata": {},
   "source": [
    "## 安装R包\n",
    "镜像可能未能包含你需要的所有包"
   ]
  },
  {
   "cell_type": "code",
   "execution_count": 1,
   "metadata": {},
   "outputs": [
    {
     "name": "stderr",
     "output_type": "stream",
     "text": [
      "also installing the dependency ‘urca’\n",
      "\n",
      "Updating HTML index of packages in '.Library'\n",
      "Making 'packages.html' ... done\n"
     ]
    }
   ],
   "source": [
    "install.packages(\"forecast\")"
   ]
  },
  {
   "cell_type": "markdown",
   "metadata": {},
   "source": [
    "## 2. 引入需要的包"
   ]
  },
  {
   "cell_type": "code",
   "execution_count": null,
   "metadata": {},
   "outputs": [],
   "source": [
    "library(\"forecast\")"
   ]
  },
  {
   "cell_type": "markdown",
   "metadata": {},
   "source": [
    "## 3. 基本设置\n",
    "如果需要，可以做一些基本设置"
   ]
  },
  {
   "cell_type": "code",
   "execution_count": 42,
   "metadata": {},
   "outputs": [],
   "source": [
    "options(warn = -1)  #不显示告警信息"
   ]
  },
  {
   "cell_type": "markdown",
   "metadata": {},
   "source": [
    "## 4. 读取数据"
   ]
  },
  {
   "cell_type": "code",
   "execution_count": 43,
   "metadata": {},
   "outputs": [
    {
     "data": {
      "text/html": [
       "<ol class=list-inline>\n",
       "\t<li>'FamaFrench.csv'</li>\n",
       "\t<li>'gm-ws-b.us.txt'</li>\n",
       "\t<li>'gmre_a.us.txt'</li>\n",
       "\t<li>'gmre.us.txt'</li>\n",
       "\t<li>'gms.us.txt'</li>\n",
       "\t<li>'gmta.us.txt'</li>\n",
       "\t<li>'gmz.us.txt'</li>\n",
       "\t<li>'gnbc.us.txt'</li>\n",
       "\t<li>'gnc.us.txt'</li>\n",
       "\t<li>'gnca.us.txt'</li>\n",
       "\t<li>'gncma.us.txt'</li>\n",
       "\t<li>'gne_a.us.txt'</li>\n",
       "\t<li>'gne.us.txt'</li>\n",
       "\t<li>'gnk.us.txt'</li>\n",
       "\t<li>'gnl_a.us.txt'</li>\n",
       "\t<li>'gnl.us.txt'</li>\n",
       "\t<li>'gnmk.us.txt'</li>\n",
       "\t<li>'gnmx.us.txt'</li>\n",
       "\t<li>'gnrc.us.txt'</li>\n",
       "\t<li>'gnrt.us.txt'</li>\n",
       "\t<li>'gnrx.us.txt'</li>\n",
       "\t<li>'gnst.us.txt'</li>\n",
       "\t<li>'gnt_a.us.txt'</li>\n",
       "\t<li>'gnt.us.txt'</li>\n",
       "\t<li>'gntx.us.txt'</li>\n",
       "\t<li>'gnty.us.txt'</li>\n",
       "\t<li>'gnus.us.txt'</li>\n",
       "\t<li>'gnw.us.txt'</li>\n",
       "\t<li>'goau.us.txt'</li>\n",
       "\t<li>'goex.us.txt'</li>\n",
       "\t<li>'gof.us.txt'</li>\n",
       "\t<li>'gogl.us.txt'</li>\n",
       "\t<li>'gogo.us.txt'</li>\n",
       "\t<li>'gol.us.txt'</li>\n",
       "\t<li>'gold.us.txt'</li>\n",
       "\t<li>'golf.us.txt'</li>\n",
       "\t<li>'good.us.txt'</li>\n",
       "\t<li>'goodm.us.txt'</li>\n",
       "\t<li>'goodo.us.txt'</li>\n",
       "\t<li>'goodp.us.txt'</li>\n",
       "\t<li>'goog.us.txt'</li>\n",
       "\t<li>'shampoo-sales.csv'</li>\n",
       "</ol>\n"
      ],
      "text/latex": [
       "\\begin{enumerate*}\n",
       "\\item 'FamaFrench.csv'\n",
       "\\item 'gm-ws-b.us.txt'\n",
       "\\item 'gmre\\_a.us.txt'\n",
       "\\item 'gmre.us.txt'\n",
       "\\item 'gms.us.txt'\n",
       "\\item 'gmta.us.txt'\n",
       "\\item 'gmz.us.txt'\n",
       "\\item 'gnbc.us.txt'\n",
       "\\item 'gnc.us.txt'\n",
       "\\item 'gnca.us.txt'\n",
       "\\item 'gncma.us.txt'\n",
       "\\item 'gne\\_a.us.txt'\n",
       "\\item 'gne.us.txt'\n",
       "\\item 'gnk.us.txt'\n",
       "\\item 'gnl\\_a.us.txt'\n",
       "\\item 'gnl.us.txt'\n",
       "\\item 'gnmk.us.txt'\n",
       "\\item 'gnmx.us.txt'\n",
       "\\item 'gnrc.us.txt'\n",
       "\\item 'gnrt.us.txt'\n",
       "\\item 'gnrx.us.txt'\n",
       "\\item 'gnst.us.txt'\n",
       "\\item 'gnt\\_a.us.txt'\n",
       "\\item 'gnt.us.txt'\n",
       "\\item 'gntx.us.txt'\n",
       "\\item 'gnty.us.txt'\n",
       "\\item 'gnus.us.txt'\n",
       "\\item 'gnw.us.txt'\n",
       "\\item 'goau.us.txt'\n",
       "\\item 'goex.us.txt'\n",
       "\\item 'gof.us.txt'\n",
       "\\item 'gogl.us.txt'\n",
       "\\item 'gogo.us.txt'\n",
       "\\item 'gol.us.txt'\n",
       "\\item 'gold.us.txt'\n",
       "\\item 'golf.us.txt'\n",
       "\\item 'good.us.txt'\n",
       "\\item 'goodm.us.txt'\n",
       "\\item 'goodo.us.txt'\n",
       "\\item 'goodp.us.txt'\n",
       "\\item 'goog.us.txt'\n",
       "\\item 'shampoo-sales.csv'\n",
       "\\end{enumerate*}\n"
      ],
      "text/markdown": [
       "1. 'FamaFrench.csv'\n",
       "2. 'gm-ws-b.us.txt'\n",
       "3. 'gmre_a.us.txt'\n",
       "4. 'gmre.us.txt'\n",
       "5. 'gms.us.txt'\n",
       "6. 'gmta.us.txt'\n",
       "7. 'gmz.us.txt'\n",
       "8. 'gnbc.us.txt'\n",
       "9. 'gnc.us.txt'\n",
       "10. 'gnca.us.txt'\n",
       "11. 'gncma.us.txt'\n",
       "12. 'gne_a.us.txt'\n",
       "13. 'gne.us.txt'\n",
       "14. 'gnk.us.txt'\n",
       "15. 'gnl_a.us.txt'\n",
       "16. 'gnl.us.txt'\n",
       "17. 'gnmk.us.txt'\n",
       "18. 'gnmx.us.txt'\n",
       "19. 'gnrc.us.txt'\n",
       "20. 'gnrt.us.txt'\n",
       "21. 'gnrx.us.txt'\n",
       "22. 'gnst.us.txt'\n",
       "23. 'gnt_a.us.txt'\n",
       "24. 'gnt.us.txt'\n",
       "25. 'gntx.us.txt'\n",
       "26. 'gnty.us.txt'\n",
       "27. 'gnus.us.txt'\n",
       "28. 'gnw.us.txt'\n",
       "29. 'goau.us.txt'\n",
       "30. 'goex.us.txt'\n",
       "31. 'gof.us.txt'\n",
       "32. 'gogl.us.txt'\n",
       "33. 'gogo.us.txt'\n",
       "34. 'gol.us.txt'\n",
       "35. 'gold.us.txt'\n",
       "36. 'golf.us.txt'\n",
       "37. 'good.us.txt'\n",
       "38. 'goodm.us.txt'\n",
       "39. 'goodo.us.txt'\n",
       "40. 'goodp.us.txt'\n",
       "41. 'goog.us.txt'\n",
       "42. 'shampoo-sales.csv'\n",
       "\n",
       "\n"
      ],
      "text/plain": [
       " [1] \"FamaFrench.csv\"    \"gm-ws-b.us.txt\"    \"gmre_a.us.txt\"    \n",
       " [4] \"gmre.us.txt\"       \"gms.us.txt\"        \"gmta.us.txt\"      \n",
       " [7] \"gmz.us.txt\"        \"gnbc.us.txt\"       \"gnc.us.txt\"       \n",
       "[10] \"gnca.us.txt\"       \"gncma.us.txt\"      \"gne_a.us.txt\"     \n",
       "[13] \"gne.us.txt\"        \"gnk.us.txt\"        \"gnl_a.us.txt\"     \n",
       "[16] \"gnl.us.txt\"        \"gnmk.us.txt\"       \"gnmx.us.txt\"      \n",
       "[19] \"gnrc.us.txt\"       \"gnrt.us.txt\"       \"gnrx.us.txt\"      \n",
       "[22] \"gnst.us.txt\"       \"gnt_a.us.txt\"      \"gnt.us.txt\"       \n",
       "[25] \"gntx.us.txt\"       \"gnty.us.txt\"       \"gnus.us.txt\"      \n",
       "[28] \"gnw.us.txt\"        \"goau.us.txt\"       \"goex.us.txt\"      \n",
       "[31] \"gof.us.txt\"        \"gogl.us.txt\"       \"gogo.us.txt\"      \n",
       "[34] \"gol.us.txt\"        \"gold.us.txt\"       \"golf.us.txt\"      \n",
       "[37] \"good.us.txt\"       \"goodm.us.txt\"      \"goodo.us.txt\"     \n",
       "[40] \"goodp.us.txt\"      \"goog.us.txt\"       \"shampoo-sales.csv\""
      ]
     },
     "metadata": {},
     "output_type": "display_data"
    }
   ],
   "source": [
    "list.files(\"../data\")   #检验目录是否正确"
   ]
  },
  {
   "cell_type": "code",
   "execution_count": 45,
   "metadata": {},
   "outputs": [
    {
     "data": {
      "text/html": [
       "<table>\n",
       "<thead><tr><th scope=col>Date</th><th scope=col>Open</th><th scope=col>High</th><th scope=col>Low</th><th scope=col>Close</th><th scope=col>Volume</th><th scope=col>OpenInt</th></tr></thead>\n",
       "<tbody>\n",
       "\t<tr><td>2017-09-21</td><td>24.9400   </td><td>24.96     </td><td>24.8000   </td><td>24.80     </td><td>144226    </td><td>0         </td></tr>\n",
       "\t<tr><td>2017-09-22</td><td>24.8101   </td><td>24.90     </td><td>24.8100   </td><td>24.90     </td><td> 35452    </td><td>0         </td></tr>\n",
       "\t<tr><td>2017-09-25</td><td>24.9800   </td><td>24.98     </td><td>24.8800   </td><td>24.91     </td><td> 62443    </td><td>0         </td></tr>\n",
       "\t<tr><td>2017-09-26</td><td>24.9400   </td><td>24.94     </td><td>24.8800   </td><td>24.88     </td><td> 22618    </td><td>0         </td></tr>\n",
       "\t<tr><td>2017-09-27</td><td>24.8800   </td><td>24.88     </td><td>24.8001   </td><td>24.85     </td><td> 33070    </td><td>0         </td></tr>\n",
       "\t<tr><td>2017-09-28</td><td>24.8500   </td><td>24.94     </td><td>24.8300   </td><td>24.85     </td><td> 59192    </td><td>0         </td></tr>\n",
       "</tbody>\n",
       "</table>\n"
      ],
      "text/latex": [
       "\\begin{tabular}{r|lllllll}\n",
       " Date & Open & High & Low & Close & Volume & OpenInt\\\\\n",
       "\\hline\n",
       "\t 2017-09-21 & 24.9400    & 24.96      & 24.8000    & 24.80      & 144226     & 0         \\\\\n",
       "\t 2017-09-22 & 24.8101    & 24.90      & 24.8100    & 24.90      &  35452     & 0         \\\\\n",
       "\t 2017-09-25 & 24.9800    & 24.98      & 24.8800    & 24.91      &  62443     & 0         \\\\\n",
       "\t 2017-09-26 & 24.9400    & 24.94      & 24.8800    & 24.88      &  22618     & 0         \\\\\n",
       "\t 2017-09-27 & 24.8800    & 24.88      & 24.8001    & 24.85      &  33070     & 0         \\\\\n",
       "\t 2017-09-28 & 24.8500    & 24.94      & 24.8300    & 24.85      &  59192     & 0         \\\\\n",
       "\\end{tabular}\n"
      ],
      "text/markdown": [
       "\n",
       "Date | Open | High | Low | Close | Volume | OpenInt | \n",
       "|---|---|---|---|---|---|\n",
       "| 2017-09-21 | 24.9400    | 24.96      | 24.8000    | 24.80      | 144226     | 0          | \n",
       "| 2017-09-22 | 24.8101    | 24.90      | 24.8100    | 24.90      |  35452     | 0          | \n",
       "| 2017-09-25 | 24.9800    | 24.98      | 24.8800    | 24.91      |  62443     | 0          | \n",
       "| 2017-09-26 | 24.9400    | 24.94      | 24.8800    | 24.88      |  22618     | 0          | \n",
       "| 2017-09-27 | 24.8800    | 24.88      | 24.8001    | 24.85      |  33070     | 0          | \n",
       "| 2017-09-28 | 24.8500    | 24.94      | 24.8300    | 24.85      |  59192     | 0          | \n",
       "\n",
       "\n"
      ],
      "text/plain": [
       "  Date       Open    High  Low     Close Volume OpenInt\n",
       "1 2017-09-21 24.9400 24.96 24.8000 24.80 144226 0      \n",
       "2 2017-09-22 24.8101 24.90 24.8100 24.90  35452 0      \n",
       "3 2017-09-25 24.9800 24.98 24.8800 24.91  62443 0      \n",
       "4 2017-09-26 24.9400 24.94 24.8800 24.88  22618 0      \n",
       "5 2017-09-27 24.8800 24.88 24.8001 24.85  33070 0      \n",
       "6 2017-09-28 24.8500 24.94 24.8300 24.85  59192 0      "
      ]
     },
     "metadata": {},
     "output_type": "display_data"
    }
   ],
   "source": [
    "#dataframe结构\n",
    "data<-read.csv(file = \"../data/gmre_a.us.txt\")\n",
    "head(data)"
   ]
  },
  {
   "cell_type": "markdown",
   "metadata": {},
   "source": [
    "## 5. 数据探索\n",
    "了解你数据"
   ]
  },
  {
   "cell_type": "code",
   "execution_count": 32,
   "metadata": {},
   "outputs": [
    {
     "data": {
      "text/plain": [
       "         Date          Open             High             Low        \n",
       " 2014-03-27:  1   Min.   : 494.6   Min.   : 496.0   Min.   : 487.6  \n",
       " 2014-03-28:  1   1st Qu.: 560.5   1st Qu.: 565.1   1st Qu.: 555.6  \n",
       " 2014-03-31:  1   Median : 710.8   Median : 718.4   Median : 703.5  \n",
       " 2014-04-01:  1   Mean   : 702.9   Mean   : 708.1   Mean   : 697.1  \n",
       " 2014-04-02:  1   3rd Qu.: 793.8   3rd Qu.: 798.1   3rd Qu.: 787.9  \n",
       " 2014-04-03:  1   Max.   :1034.0   Max.   :1048.4   Max.   :1028.5  \n",
       " (Other)   :910                                                     \n",
       "     Close            Volume            OpenInt \n",
       " Min.   : 492.6   Min.   :    7932   Min.   :0  \n",
       " 1st Qu.: 559.8   1st Qu.: 1173610   1st Qu.:0  \n",
       " Median : 711.0   Median : 1511322   Median :0  \n",
       " Mean   : 702.8   Mean   : 1725988   Mean   :0  \n",
       " 3rd Qu.: 794.3   3rd Qu.: 1988164   3rd Qu.:0  \n",
       " Max.   :1039.8   Max.   :11164900   Max.   :0  \n",
       "                                                "
      ]
     },
     "metadata": {},
     "output_type": "display_data"
    }
   ],
   "source": [
    "summary(data)"
   ]
  },
  {
   "cell_type": "markdown",
   "metadata": {},
   "source": [
    "## 6. 数据处理"
   ]
  },
  {
   "cell_type": "code",
   "execution_count": 47,
   "metadata": {},
   "outputs": [],
   "source": [
    "data<-data[,c(\"Date\",\"Close\")] #筛选字段"
   ]
  },
  {
   "cell_type": "markdown",
   "metadata": {},
   "source": [
    "## 7. 建模"
   ]
  },
  {
   "cell_type": "code",
   "execution_count": 49,
   "metadata": {},
   "outputs": [
    {
     "name": "stdout",
     "output_type": "stream",
     "text": [
      "Series: data$Close \n",
      "ARIMA(0,1,1) \n",
      "\n",
      "Coefficients:\n",
      "          ma1\n",
      "      -0.5771\n",
      "s.e.   0.1380\n",
      "\n",
      "sigma^2 estimated as 0.003261:  log likelihood=52.38\n",
      "AIC=-100.77   AICc=-100.41   BIC=-97.6\n"
     ]
    }
   ],
   "source": [
    "#模型参数\n",
    "print(auto.arima(data$Close))"
   ]
  },
  {
   "cell_type": "code",
   "execution_count": 50,
   "metadata": {},
   "outputs": [
    {
     "data": {
      "image/png": "[encoded data removed]",
      "text/plain": [
       "Plot with title “Forecasts from ARIMA(0,1,1)”"
      ]
     },
     "metadata": {},
     "output_type": "display_data"
    }
   ],
   "source": [
    "#预测和可视化\n",
    "fit <- auto.arima(data[\"Close\"])\n",
    "plot(forecast(fit,h=100))"
   ]
  },
  {
   "cell_type": "code",
   "execution_count": null,
   "metadata": {},
   "outputs": [],
   "source": []
  }
 ],
 "metadata": {
  "kernelspec": {
   "display_name": "R",
   "language": "R",
   "name": "ir"
  },
  "language_info": {
   "codemirror_mode": "r",
   "file_extension": ".r",
   "mimetype": "text/x-r-source",
   "name": "R",
   "pygments_lexer": "r",
   "version": "3.4.4"
  }
 },
 "nbformat": 4,
 "nbformat_minor": 2
}
